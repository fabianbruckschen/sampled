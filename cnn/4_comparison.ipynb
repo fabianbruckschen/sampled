{
 "cells": [
  {
   "cell_type": "markdown",
   "metadata": {},
   "source": [
    "# Comparison of PMP and CNN"
   ]
  },
  {
   "cell_type": "code",
   "execution_count": null,
   "metadata": {},
   "outputs": [],
   "source": [
    "rmse_dpm = np.load(dir_data+'rmse/rmse_dpm.npy')\n",
    "rmse_wpm = np.load(dir_data+'rmse/rmse_wpm.npy')\n",
    "# and others"
   ]
  },
  {
   "cell_type": "code",
   "execution_count": null,
   "metadata": {},
   "outputs": [],
   "source": [
    "# create ensemble"
   ]
  },
  {
   "cell_type": "markdown",
   "metadata": {},
   "source": [
    "## Plotting"
   ]
  },
  {
   "cell_type": "code",
   "execution_count": null,
   "metadata": {},
   "outputs": [],
   "source": [
    "# plot scores\n",
    "days = ['mon', 'tue', 'wed', 'thr', 'fri', 'sat', 'sun']\n",
    "plt.plot(days, rmse_tfu[1], marker='o', label='tensorflow univariate')\n",
    "plt.plot(days, rmse_ptu[1], marker='o', label='pytorch univariate')\n",
    "plt.plot(days, rmse_tfm[1], marker='o', label='tensorflow multivariate')\n",
    "plt.plot(days, rmse_ptm[1], marker='o', label='pytorch multivariate')\n",
    "plt.plot(days, rmse_dpm, marker='o', label='daily persistence')\n",
    "plt.plot(days, rmse_wpm, marker='o', label='weekly persistence')\n",
    "plt.legend()\n",
    "plt.title('RMSE for the next standard week given %s input days' % n_timesteps)\n",
    "plt.show()"
   ]
  }
 ],
 "metadata": {
  "kernelspec": {
   "display_name": "Python 3",
   "language": "python",
   "name": "python3"
  },
  "language_info": {
   "codemirror_mode": {
    "name": "ipython",
    "version": 3
   },
   "file_extension": ".py",
   "mimetype": "text/x-python",
   "name": "python",
   "nbconvert_exporter": "python",
   "pygments_lexer": "ipython3",
   "version": "3.6.5"
  }
 },
 "nbformat": 4,
 "nbformat_minor": 2
}
