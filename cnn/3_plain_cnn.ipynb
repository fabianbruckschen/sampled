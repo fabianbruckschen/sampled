{
 "cells": [
  {
   "cell_type": "markdown",
   "metadata": {},
   "source": [
    "# Plain-Text CNN"
   ]
  },
  {
   "cell_type": "markdown",
   "metadata": {},
   "source": [
    "## Preparations"
   ]
  },
  {
   "cell_type": "markdown",
   "metadata": {},
   "source": [
    "### options"
   ]
  },
  {
   "cell_type": "code",
   "execution_count": 1,
   "metadata": {},
   "outputs": [],
   "source": [
    "%reload_ext autoreload\n",
    "%autoreload 2\n",
    "dir_data = '../data/power_consumption/'"
   ]
  },
  {
   "cell_type": "markdown",
   "metadata": {},
   "source": [
    "### modules"
   ]
  },
  {
   "cell_type": "code",
   "execution_count": 2,
   "metadata": {},
   "outputs": [
    {
     "name": "stderr",
     "output_type": "stream",
     "text": [
      "Using TensorFlow backend.\n"
     ]
    }
   ],
   "source": [
    "import os  # operating system functions\n",
    "import pandas as pd  # data mangling and transforming\n",
    "import numpy as np  # handling vectors and matrices\n",
    "import matplotlib.pyplot as plt  # plotting\n",
    "from sklearn.metrics import mean_squared_error  # MSE error metric\n",
    "from analysis_functions import (evaluate_forecasts, train_tf_model, pred_tf_model,\n",
    "                                train_pt_model, pred_pt_model)  # own functions\n",
    "from preproc_functions import list_combine  # own functions\n",
    "from neural_nets import UNet, MNet  # own defined neural nets as classes\n",
    "\n",
    "# pytorch\n",
    "import torch\n",
    "import torch.nn.functional as F\n",
    "import torch.nn as nn\n",
    "\n",
    "# keras\n",
    "from keras.models import Sequential\n",
    "from keras.layers import Dense, Flatten\n",
    "from keras.layers.convolutional import Conv1D, MaxPooling1D\n",
    "from keras.optimizers import Adam, Adagrad, SGD"
   ]
  },
  {
   "cell_type": "markdown",
   "metadata": {},
   "source": [
    "### datasets"
   ]
  },
  {
   "cell_type": "markdown",
   "metadata": {},
   "source": [
    "#### univariate training"
   ]
  },
  {
   "cell_type": "code",
   "execution_count": 3,
   "metadata": {},
   "outputs": [],
   "source": [
    "train_Xu = np.load(dir_data+'train_Xu.npy')\n",
    "train_yu = np.load(dir_data+'train_yu.npy')"
   ]
  },
  {
   "cell_type": "code",
   "execution_count": 4,
   "metadata": {},
   "outputs": [
    {
     "name": "stdout",
     "output_type": "stream",
     "text": [
      "(988, 14, 1)\n",
      "(988, 7)\n"
     ]
    }
   ],
   "source": [
    "print(train_Xu.shape)\n",
    "print(train_yu.shape)"
   ]
  },
  {
   "cell_type": "markdown",
   "metadata": {},
   "source": [
    "\\>980 Observations for X days for 1 Variable!"
   ]
  },
  {
   "cell_type": "markdown",
   "metadata": {},
   "source": [
    "#### multivariate training"
   ]
  },
  {
   "cell_type": "code",
   "execution_count": 5,
   "metadata": {},
   "outputs": [],
   "source": [
    "train_Xm = np.load(dir_data+'train_Xm.npy')\n",
    "train_ym = np.load(dir_data+'train_ym.npy')"
   ]
  },
  {
   "cell_type": "code",
   "execution_count": 6,
   "metadata": {},
   "outputs": [
    {
     "name": "stdout",
     "output_type": "stream",
     "text": [
      "(988, 14, 8)\n",
      "(988, 7)\n"
     ]
    }
   ],
   "source": [
    "print(train_Xm.shape)\n",
    "print(train_ym.shape)"
   ]
  },
  {
   "cell_type": "markdown",
   "metadata": {},
   "source": [
    "\\>980 Observations for X days for 8 Variables!"
   ]
  },
  {
   "cell_type": "markdown",
   "metadata": {},
   "source": [
    "#### test set"
   ]
  },
  {
   "cell_type": "code",
   "execution_count": 7,
   "metadata": {},
   "outputs": [],
   "source": [
    "test_Xu = np.load(dir_data+'test_Xs.npy')[:,:,:1]\n",
    "test_Xm = np.load(dir_data+'test_Xs.npy')\n",
    "test_y = np.load(dir_data+'test_ys.npy')"
   ]
  },
  {
   "cell_type": "code",
   "execution_count": 8,
   "metadata": {},
   "outputs": [
    {
     "name": "stdout",
     "output_type": "stream",
     "text": [
      "(59, 14, 1)\n",
      "(59, 14, 8)\n",
      "(59, 7)\n"
     ]
    }
   ],
   "source": [
    "print(test_Xu.shape)\n",
    "print(test_Xm.shape)\n",
    "print(test_y.shape)"
   ]
  },
  {
   "cell_type": "markdown",
   "metadata": {},
   "source": [
    "## Modeling"
   ]
  },
  {
   "cell_type": "markdown",
   "metadata": {},
   "source": [
    "### Options"
   ]
  },
  {
   "cell_type": "code",
   "execution_count": 9,
   "metadata": {},
   "outputs": [],
   "source": [
    "# net hyper parameters\n",
    "# univariate specific\n",
    "epochs_u = 20\n",
    "batch_size_u = 4\n",
    "# multivariate specific\n",
    "epochs_m = 70\n",
    "batch_size_m = 16\n",
    "# general\n",
    "lr = 0.001\n",
    "n_filters = 16\n",
    "n_linear = 10"
   ]
  },
  {
   "cell_type": "code",
   "execution_count": 10,
   "metadata": {},
   "outputs": [],
   "source": [
    "# dimensions\n",
    "n_timesteps = train_Xu.shape[1] \n",
    "n_features_u = train_Xu.shape[2]\n",
    "n_features_m = train_Xm.shape[2]\n",
    "n_outputs = train_yu.shape[1] "
   ]
  },
  {
   "cell_type": "markdown",
   "metadata": {},
   "source": [
    "### Tensorflow"
   ]
  },
  {
   "cell_type": "code",
   "execution_count": 11,
   "metadata": {},
   "outputs": [
    {
     "name": "stdout",
     "output_type": "stream",
     "text": [
      "WARNING:tensorflow:From /home/fb/.local/lib/python3.6/site-packages/tensorflow/python/framework/op_def_library.py:263: colocate_with (from tensorflow.python.framework.ops) is deprecated and will be removed in a future version.\n",
      "Instructions for updating:\n",
      "Colocations handled automatically by placer.\n"
     ]
    }
   ],
   "source": [
    "# build univariate model\n",
    "model_tfu = Sequential()\n",
    "model_tfu.add(Conv1D(filters=n_filters, kernel_size=3, activation='relu', \n",
    "                     input_shape=(n_timesteps, n_features_u)))\n",
    "model_tfu.add(MaxPooling1D(pool_size=2))\n",
    "model_tfu.add(Flatten())\n",
    "model_tfu.add(Dense(n_linear, activation='relu'))\n",
    "model_tfu.add(Dense(n_outputs))"
   ]
  },
  {
   "cell_type": "code",
   "execution_count": 12,
   "metadata": {},
   "outputs": [],
   "source": [
    "# build multivariate model\n",
    "model_tfm = Sequential()\n",
    "model_tfm.add(Conv1D(filters=n_filters*2, kernel_size=3, activation='relu', \n",
    "                     input_shape=(n_timesteps, n_features_m)))\n",
    "if n_timesteps >= 14:\n",
    "    model_tfm.add(Conv1D(filters=n_filters*2, kernel_size=3, activation='relu'))\n",
    "    model_tfm.add(MaxPooling1D(pool_size=2))\n",
    "model_tfm.add(Conv1D(filters=n_filters, kernel_size=3, activation='relu'))\n",
    "model_tfm.add(MaxPooling1D(pool_size=2))\n",
    "model_tfm.add(Flatten())\n",
    "model_tfm.add(Dense(n_linear*10, activation='relu'))\n",
    "model_tfm.add(Dense(n_outputs))"
   ]
  },
  {
   "cell_type": "markdown",
   "metadata": {},
   "source": [
    "#### Univariate"
   ]
  },
  {
   "cell_type": "code",
   "execution_count": 13,
   "metadata": {},
   "outputs": [
    {
     "name": "stdout",
     "output_type": "stream",
     "text": [
      "WARNING:tensorflow:From /home/fb/.local/lib/python3.6/site-packages/tensorflow/python/ops/math_ops.py:3066: to_int32 (from tensorflow.python.ops.math_ops) is deprecated and will be removed in a future version.\n",
      "Instructions for updating:\n",
      "Use tf.cast instead.\n",
      "Overall RMSE for TF model: 403.204745822753!\n"
     ]
    }
   ],
   "source": [
    "model_tfu, opt_tfu = train_tf_model(train_Xu, train_yu, model_tfu,\n",
    "                                   batch_size_u, epochs_u, lr)\n",
    "preds_tfu, rmse_tfu = pred_tf_model(test_Xu, test_y, model_tfu)"
   ]
  },
  {
   "cell_type": "markdown",
   "metadata": {},
   "source": [
    "#### Multivariate"
   ]
  },
  {
   "cell_type": "code",
   "execution_count": 14,
   "metadata": {},
   "outputs": [
    {
     "name": "stdout",
     "output_type": "stream",
     "text": [
      "Overall RMSE for TF model: 422.13744692506356!\n"
     ]
    }
   ],
   "source": [
    "model_tfm, opt_tfm = train_tf_model(train_Xm, train_ym, model_tfm,\n",
    "                                    batch_size_u, epochs_u, lr)\n",
    "preds_tfm, rmse_tfm = pred_tf_model(test_Xm, test_y, model_tfm)"
   ]
  },
  {
   "cell_type": "markdown",
   "metadata": {},
   "source": [
    "### Pytorch"
   ]
  },
  {
   "cell_type": "markdown",
   "metadata": {},
   "source": [
    "#### Univariate"
   ]
  },
  {
   "cell_type": "code",
   "execution_count": 15,
   "metadata": {},
   "outputs": [],
   "source": [
    "model_ptu = UNet(n_features_u, n_filters, n_timesteps, n_linear, n_outputs)"
   ]
  },
  {
   "cell_type": "code",
   "execution_count": 16,
   "metadata": {},
   "outputs": [
    {
     "name": "stdout",
     "output_type": "stream",
     "text": [
      "Overall RMSE for PT model: 398.4623874918848!\n"
     ]
    }
   ],
   "source": [
    "model_ptu, opt_ptu = train_pt_model(train_Xu, train_yu, model_ptu,\n",
    "                                    batch_size_u, epochs_u, lr)\n",
    "preds_ptu, rmse_ptu = pred_pt_model(test_Xu, test_y, model_ptu)"
   ]
  },
  {
   "cell_type": "markdown",
   "metadata": {},
   "source": [
    "#### Multivariate"
   ]
  },
  {
   "cell_type": "code",
   "execution_count": 17,
   "metadata": {},
   "outputs": [],
   "source": [
    "model_ptm = MNet(n_features_m, n_filters, n_timesteps, n_linear, n_outputs)"
   ]
  },
  {
   "cell_type": "code",
   "execution_count": 18,
   "metadata": {},
   "outputs": [
    {
     "name": "stdout",
     "output_type": "stream",
     "text": [
      "Overall RMSE for PT model: 398.0896687083875!\n"
     ]
    }
   ],
   "source": [
    "model_ptm, opt_ptm = train_pt_model(train_Xm, train_ym, model_ptm,\n",
    "                                    batch_size_m, epochs_m, lr)\n",
    "preds_ptm, rmse_ptm = pred_pt_model(test_Xm, test_y, model_ptm)"
   ]
  },
  {
   "cell_type": "markdown",
   "metadata": {},
   "source": [
    "### Saving"
   ]
  },
  {
   "cell_type": "markdown",
   "metadata": {},
   "source": [
    "#### rmse & predictions"
   ]
  },
  {
   "cell_type": "code",
   "execution_count": 19,
   "metadata": {},
   "outputs": [],
   "source": [
    "l1 = ['rmse', 'preds']\n",
    "l2 = ['_tf', '_pt']\n",
    "l3 = ['m', 'u']"
   ]
  },
  {
   "cell_type": "code",
   "execution_count": 20,
   "metadata": {},
   "outputs": [],
   "source": [
    "file_names = list_combine(list_combine(l1,l2), l3)"
   ]
  },
  {
   "cell_type": "code",
   "execution_count": 21,
   "metadata": {},
   "outputs": [],
   "source": [
    "for item in file_names[:4]:\n",
    "    np.save(dir_data+'rmse/'+item, eval(item)[1])"
   ]
  },
  {
   "cell_type": "code",
   "execution_count": 22,
   "metadata": {},
   "outputs": [],
   "source": [
    "for item in file_names[4:]:\n",
    "    np.save(dir_data+'predictions/'+item, eval(item)[1])"
   ]
  },
  {
   "cell_type": "markdown",
   "metadata": {},
   "source": [
    "#### trained models"
   ]
  },
  {
   "cell_type": "code",
   "execution_count": 23,
   "metadata": {},
   "outputs": [],
   "source": [
    "# save in dedicated location\n",
    "if not os.path.exists(dir_data+'models/'):\n",
    "    os.makedirs(dir_data+'models/')"
   ]
  },
  {
   "cell_type": "code",
   "execution_count": 24,
   "metadata": {},
   "outputs": [],
   "source": [
    "# tensorflow\n",
    "model_tfu.save(dir_data+'models/model_tfu.h5')\n",
    "model_tfm.save(dir_data+'models/model_tfm.h5')"
   ]
  },
  {
   "cell_type": "code",
   "execution_count": 25,
   "metadata": {},
   "outputs": [],
   "source": [
    "# pytorch\n",
    "torch.save(model_ptu, dir_data+'models/model_ptu.pt')\n",
    "torch.save(model_ptm, dir_data+'models/model_ptm.pt')"
   ]
  }
 ],
 "metadata": {
  "kernelspec": {
   "display_name": "Python 3",
   "language": "python",
   "name": "python3"
  },
  "language_info": {
   "codemirror_mode": {
    "name": "ipython",
    "version": 3
   },
   "file_extension": ".py",
   "mimetype": "text/x-python",
   "name": "python",
   "nbconvert_exporter": "python",
   "pygments_lexer": "ipython3",
   "version": "3.6.5"
  }
 },
 "nbformat": 4,
 "nbformat_minor": 2
}
