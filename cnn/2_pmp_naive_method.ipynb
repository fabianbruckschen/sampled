{
 "cells": [
  {
   "cell_type": "markdown",
   "metadata": {},
   "source": [
    "# Naive Persistence Models (Daily, Weekly & Yearly) "
   ]
  },
  {
   "cell_type": "markdown",
   "metadata": {},
   "source": [
    "## Preparations"
   ]
  },
  {
   "cell_type": "code",
   "execution_count": 1,
   "metadata": {},
   "outputs": [],
   "source": [
    "%reload_ext autoreload\n",
    "%autoreload 2\n",
    "dir_data = '../data/power_consumption/'"
   ]
  },
  {
   "cell_type": "code",
   "execution_count": 2,
   "metadata": {},
   "outputs": [
    {
     "name": "stderr",
     "output_type": "stream",
     "text": [
      "Using TensorFlow backend.\n"
     ]
    }
   ],
   "source": [
    "import numpy as np\n",
    "import matplotlib.pyplot as plt\n",
    "from analysis_functions import (evaluate_forecasts, evaluate_model, \n",
    "                                summarize_scores, daily_persistence, weekly_persistence)  # own functions"
   ]
  },
  {
   "cell_type": "markdown",
   "metadata": {},
   "source": [
    "# Load Dataset"
   ]
  },
  {
   "cell_type": "code",
   "execution_count": 3,
   "metadata": {},
   "outputs": [],
   "source": [
    "test_X = np.load(dir_data+'test_Xs.npy')[:,:,:1]\n",
    "test_y = np.load(dir_data+'test_ys.npy')"
   ]
  },
  {
   "cell_type": "code",
   "execution_count": 4,
   "metadata": {},
   "outputs": [
    {
     "name": "stdout",
     "output_type": "stream",
     "text": [
      "(59, 14, 1)\n",
      "(59, 7)\n"
     ]
    }
   ],
   "source": [
    "print(test_X.shape)\n",
    "print(test_y.shape)"
   ]
  },
  {
   "cell_type": "markdown",
   "metadata": {},
   "source": [
    "# Run Naive Model (Daily and Weekly)"
   ]
  },
  {
   "cell_type": "code",
   "execution_count": 5,
   "metadata": {},
   "outputs": [
    {
     "name": "stdout",
     "output_type": "stream",
     "text": [
      "dpm: [521.890] 584.3, 471.6, 474.4, 496.1, 476.7, 526.0, 606.4\n",
      "wpm: [474.974] 449.2, 421.5, 474.6, 473.8, 362.0, 501.4, 606.4\n"
     ]
    },
    {
     "data": {
      "image/png": "[encoded data removed]",
      "text/plain": [
       "<Figure size 432x288 with 1 Axes>"
      ]
     },
     "metadata": {},
     "output_type": "display_data"
    }
   ],
   "source": [
    "# define the names and functions for the models we wish to evaluate\n",
    "models = dict()\n",
    "models['dpm'] = daily_persistence\n",
    "models['wpm'] = weekly_persistence\n",
    "# models['ypm'] = yearly_persistence\n",
    "# evaluate each model\n",
    "days = ['mon', 'tue', 'wed', 'thr', 'fri', 'sat', 'sun']\n",
    "for name, func in models.items():\n",
    "    # evaluate and get scores\n",
    "    score, scores, predictions = evaluate_model(func, test_X, test_y)\n",
    "    # summarize scores\n",
    "    summarize_scores(name, score, scores)\n",
    "    # plot scores\n",
    "    plt.plot(days, scores, marker='o', label=name)\n",
    "    # save rmse & predictions as npy files\n",
    "    np.save(dir_data+'rmse/rmse_'+name, scores)\n",
    "    np.save(dir_data+'predictions/preds_'+name, predictions)\n",
    "# show plot\n",
    "plt.legend()\n",
    "plt.show()"
   ]
  }
 ],
 "metadata": {
  "kernelspec": {
   "display_name": "Python 3",
   "language": "python",
   "name": "python3"
  },
  "language_info": {
   "codemirror_mode": {
    "name": "ipython",
    "version": 3
   },
   "file_extension": ".py",
   "mimetype": "text/x-python",
   "name": "python",
   "nbconvert_exporter": "python",
   "pygments_lexer": "ipython3",
   "version": "3.6.5"
  }
 },
 "nbformat": 4,
 "nbformat_minor": 2
}
