{
 "cells": [
  {
   "cell_type": "markdown",
   "metadata": {},
   "source": [
    "# Data preprocessing"
   ]
  },
  {
   "cell_type": "markdown",
   "metadata": {},
   "source": [
    "## Preparations"
   ]
  },
  {
   "cell_type": "markdown",
   "metadata": {},
   "source": [
    "### options"
   ]
  },
  {
   "cell_type": "code",
   "execution_count": 1,
   "metadata": {},
   "outputs": [],
   "source": [
    "%reload_ext autoreload\n",
    "%autoreload 2\n",
    "dir_data = '../data/power_consumption/'"
   ]
  },
  {
   "cell_type": "markdown",
   "metadata": {},
   "source": [
    "### modules"
   ]
  },
  {
   "cell_type": "code",
   "execution_count": 2,
   "metadata": {},
   "outputs": [],
   "source": [
    "import pandas as pd  # data mangling and transforming\n",
    "import numpy as np  # handling vectors and matrices\n",
    "from preproc_functions import fill_missing, split_dataset, to_supervised  # own preprocessing functions"
   ]
  },
  {
   "cell_type": "markdown",
   "metadata": {},
   "source": [
    "### Load data & fill missing"
   ]
  },
  {
   "cell_type": "code",
   "execution_count": 3,
   "metadata": {},
   "outputs": [],
   "source": [
    "# load all data\n",
    "df = pd.read_csv(dir_data+'household_power_consumption.txt', \n",
    "                 sep=';', header=0, low_memory=False, \n",
    "                 infer_datetime_format=True, \n",
    "                 parse_dates={'datetime':[0,1]}, index_col=['datetime'])\n",
    "# mark all missing values\n",
    "df.replace('?', np.nan, inplace=True)\n",
    "# make dataset numeric\n",
    "df = df.astype('float32')\n",
    "# fill missing\n",
    "fill_missing(df.values)"
   ]
  },
  {
   "cell_type": "markdown",
   "metadata": {},
   "source": [
    "### create additional variable"
   ]
  },
  {
   "cell_type": "code",
   "execution_count": 4,
   "metadata": {},
   "outputs": [],
   "source": [
    "# add a column for for the remainder of sub metering\n",
    "values = df.values\n",
    "df['sub_metering_4'] = (values[:,0] * 1000 / 60) - (values[:,4] + \n",
    "                                                    values[:,5] + \n",
    "                                                    values[:,6])"
   ]
  },
  {
   "cell_type": "code",
   "execution_count": 5,
   "metadata": {},
   "outputs": [],
   "source": [
    "# save updated dataset\n",
    "df.to_csv(dir_data+'household_power_consumption.csv')"
   ]
  },
  {
   "cell_type": "markdown",
   "metadata": {},
   "source": [
    "### aggregate to days"
   ]
  },
  {
   "cell_type": "code",
   "execution_count": 6,
   "metadata": {},
   "outputs": [],
   "source": [
    "# resample data to daily\n",
    "daily_groups = df.resample('D')\n",
    "df_daily = daily_groups.sum()"
   ]
  },
  {
   "cell_type": "code",
   "execution_count": 7,
   "metadata": {},
   "outputs": [
    {
     "name": "stdout",
     "output_type": "stream",
     "text": [
      "(1442, 8)\n"
     ]
    }
   ],
   "source": [
    "# summarize\n",
    "print(df_daily.shape)\n",
    "# save\n",
    "df_daily.to_csv(dir_data+'household_power_consumption_by_day.csv')"
   ]
  },
  {
   "cell_type": "markdown",
   "metadata": {},
   "source": [
    "## Transformations"
   ]
  },
  {
   "cell_type": "markdown",
   "metadata": {},
   "source": [
    "### define time windows"
   ]
  },
  {
   "cell_type": "code",
   "execution_count": 8,
   "metadata": {},
   "outputs": [
    {
     "name": "stdout",
     "output_type": "stream",
     "text": [
      "206.0 weeks available.\n"
     ]
    }
   ],
   "source": [
    "print(str(len(df_daily)/7)+' weeks available.')"
   ]
  },
  {
   "cell_type": "code",
   "execution_count": 9,
   "metadata": {},
   "outputs": [
    {
     "data": {
      "text/plain": [
       "5"
      ]
     },
     "execution_count": 9,
     "metadata": {},
     "output_type": "execute_result"
    }
   ],
   "source": [
    "# first day\n",
    "df_daily.index[0].weekday()"
   ]
  },
  {
   "cell_type": "markdown",
   "metadata": {},
   "source": [
    "Dataset starts with a Saturday, we want our weeks to start with Monday however."
   ]
  },
  {
   "cell_type": "code",
   "execution_count": 10,
   "metadata": {},
   "outputs": [
    {
     "data": {
      "text/plain": [
       "143.5"
      ]
     },
     "execution_count": 10,
     "metadata": {},
     "output_type": "execute_result"
    }
   ],
   "source": [
    "205*0.7  # 70% of data into training set"
   ]
  },
  {
   "cell_type": "markdown",
   "metadata": {},
   "source": [
    "144 weeks in training set. 61 in the test set."
   ]
  },
  {
   "cell_type": "code",
   "execution_count": 11,
   "metadata": {},
   "outputs": [],
   "source": [
    "split_day = 2+(144*7)\n",
    "training_window = (2, split_day)\n",
    "test_window = (split_day, -5)"
   ]
  },
  {
   "cell_type": "code",
   "execution_count": 12,
   "metadata": {},
   "outputs": [
    {
     "name": "stdout",
     "output_type": "stream",
     "text": [
      "(2, 1010)\n",
      "(1010, -5)\n"
     ]
    }
   ],
   "source": [
    "print(training_window)\n",
    "print(test_window)"
   ]
  },
  {
   "cell_type": "markdown",
   "metadata": {},
   "source": [
    "### split into training and test"
   ]
  },
  {
   "cell_type": "code",
   "execution_count": 13,
   "metadata": {},
   "outputs": [
    {
     "data": {
      "text/html": [
       "<div>\n",
       "<style scoped>\n",
       "    .dataframe tbody tr th:only-of-type {\n",
       "        vertical-align: middle;\n",
       "    }\n",
       "\n",
       "    .dataframe tbody tr th {\n",
       "        vertical-align: top;\n",
       "    }\n",
       "\n",
       "    .dataframe thead th {\n",
       "        text-align: right;\n",
       "    }\n",
       "</style>\n",
       "<table border=\"1\" class=\"dataframe\">\n",
       "  <thead>\n",
       "    <tr style=\"text-align: right;\">\n",
       "      <th></th>\n",
       "      <th>Global_active_power</th>\n",
       "      <th>Global_reactive_power</th>\n",
       "      <th>Voltage</th>\n",
       "      <th>Global_intensity</th>\n",
       "      <th>Sub_metering_1</th>\n",
       "      <th>Sub_metering_2</th>\n",
       "      <th>Sub_metering_3</th>\n",
       "      <th>sub_metering_4</th>\n",
       "    </tr>\n",
       "    <tr>\n",
       "      <th>datetime</th>\n",
       "      <th></th>\n",
       "      <th></th>\n",
       "      <th></th>\n",
       "      <th></th>\n",
       "      <th></th>\n",
       "      <th></th>\n",
       "      <th></th>\n",
       "      <th></th>\n",
       "    </tr>\n",
       "  </thead>\n",
       "  <tbody>\n",
       "    <tr>\n",
       "      <th>2006-12-16</th>\n",
       "      <td>1209.176025</td>\n",
       "      <td>34.922001</td>\n",
       "      <td>93552.53125</td>\n",
       "      <td>5180.799805</td>\n",
       "      <td>0.0</td>\n",
       "      <td>546.0</td>\n",
       "      <td>4926.0</td>\n",
       "      <td>14680.933594</td>\n",
       "    </tr>\n",
       "    <tr>\n",
       "      <th>2006-12-17</th>\n",
       "      <td>3390.459961</td>\n",
       "      <td>226.005997</td>\n",
       "      <td>345725.31250</td>\n",
       "      <td>14398.599609</td>\n",
       "      <td>2033.0</td>\n",
       "      <td>4187.0</td>\n",
       "      <td>13341.0</td>\n",
       "      <td>36946.667969</td>\n",
       "    </tr>\n",
       "    <tr>\n",
       "      <th>2006-12-18</th>\n",
       "      <td>2203.825928</td>\n",
       "      <td>161.792007</td>\n",
       "      <td>347373.62500</td>\n",
       "      <td>9247.200195</td>\n",
       "      <td>1063.0</td>\n",
       "      <td>2621.0</td>\n",
       "      <td>14018.0</td>\n",
       "      <td>19028.433594</td>\n",
       "    </tr>\n",
       "    <tr>\n",
       "      <th>2006-12-19</th>\n",
       "      <td>1666.193970</td>\n",
       "      <td>150.942001</td>\n",
       "      <td>348479.00000</td>\n",
       "      <td>7094.000000</td>\n",
       "      <td>839.0</td>\n",
       "      <td>7602.0</td>\n",
       "      <td>6197.0</td>\n",
       "      <td>13131.900391</td>\n",
       "    </tr>\n",
       "    <tr>\n",
       "      <th>2006-12-20</th>\n",
       "      <td>2225.748047</td>\n",
       "      <td>160.998001</td>\n",
       "      <td>348923.62500</td>\n",
       "      <td>9313.000000</td>\n",
       "      <td>0.0</td>\n",
       "      <td>2648.0</td>\n",
       "      <td>14063.0</td>\n",
       "      <td>20384.800781</td>\n",
       "    </tr>\n",
       "  </tbody>\n",
       "</table>\n",
       "</div>"
      ],
      "text/plain": [
       "            Global_active_power  Global_reactive_power       Voltage  \\\n",
       "datetime                                                               \n",
       "2006-12-16          1209.176025              34.922001   93552.53125   \n",
       "2006-12-17          3390.459961             226.005997  345725.31250   \n",
       "2006-12-18          2203.825928             161.792007  347373.62500   \n",
       "2006-12-19          1666.193970             150.942001  348479.00000   \n",
       "2006-12-20          2225.748047             160.998001  348923.62500   \n",
       "\n",
       "            Global_intensity  Sub_metering_1  Sub_metering_2  Sub_metering_3  \\\n",
       "datetime                                                                       \n",
       "2006-12-16       5180.799805             0.0           546.0          4926.0   \n",
       "2006-12-17      14398.599609          2033.0          4187.0         13341.0   \n",
       "2006-12-18       9247.200195          1063.0          2621.0         14018.0   \n",
       "2006-12-19       7094.000000           839.0          7602.0          6197.0   \n",
       "2006-12-20       9313.000000             0.0          2648.0         14063.0   \n",
       "\n",
       "            sub_metering_4  \n",
       "datetime                    \n",
       "2006-12-16    14680.933594  \n",
       "2006-12-17    36946.667969  \n",
       "2006-12-18    19028.433594  \n",
       "2006-12-19    13131.900391  \n",
       "2006-12-20    20384.800781  "
      ]
     },
     "execution_count": 13,
     "metadata": {},
     "output_type": "execute_result"
    }
   ],
   "source": [
    "df_daily.head()"
   ]
  },
  {
   "cell_type": "code",
   "execution_count": 14,
   "metadata": {},
   "outputs": [],
   "source": [
    "train, test = split_dataset(df_daily.values, \n",
    "                            trw=training_window,\n",
    "                            tew=test_window)"
   ]
  },
  {
   "cell_type": "code",
   "execution_count": 15,
   "metadata": {},
   "outputs": [
    {
     "name": "stdout",
     "output_type": "stream",
     "text": [
      "(144, 7, 8)\n",
      "(61, 7, 8)\n"
     ]
    }
   ],
   "source": [
    "print(train.shape)  # 144 observations of matrices 7x8\n",
    "print(test.shape)  # 61 observations of same dimension"
   ]
  },
  {
   "cell_type": "markdown",
   "metadata": {},
   "source": [
    "The dimensions are: week, weekday, variable!"
   ]
  },
  {
   "cell_type": "markdown",
   "metadata": {},
   "source": [
    "### We always want to predict the next week based on the last 7 days"
   ]
  },
  {
   "cell_type": "markdown",
   "metadata": {},
   "source": [
    "#### Only standard weeks"
   ]
  },
  {
   "cell_type": "code",
   "execution_count": 16,
   "metadata": {},
   "outputs": [],
   "source": [
    "# delete last week from X + first week from y\n",
    "train_X = train[:-1,:,:]\n",
    "train_y = train[1:,:,0]"
   ]
  },
  {
   "cell_type": "code",
   "execution_count": 17,
   "metadata": {},
   "outputs": [],
   "source": [
    "# same for test set\n",
    "test_X = test[:-1,:,:]\n",
    "test_y = test[1:,:,0]"
   ]
  },
  {
   "cell_type": "code",
   "execution_count": 18,
   "metadata": {},
   "outputs": [
    {
     "name": "stdout",
     "output_type": "stream",
     "text": [
      "(143, 7, 8)\n",
      "(143, 7)\n"
     ]
    }
   ],
   "source": [
    "print(train_X.shape)\n",
    "print(train_y.shape)"
   ]
  },
  {
   "cell_type": "markdown",
   "metadata": {},
   "source": [
    "#### Uni-variate case"
   ]
  },
  {
   "cell_type": "code",
   "execution_count": 19,
   "metadata": {},
   "outputs": [],
   "source": [
    "train_Xu, train_yu = to_supervised(train, n_input=7, n_out=7)"
   ]
  },
  {
   "cell_type": "code",
   "execution_count": 20,
   "metadata": {},
   "outputs": [
    {
     "name": "stdout",
     "output_type": "stream",
     "text": [
      "(994, 7, 1)\n",
      "(994, 7)\n"
     ]
    }
   ],
   "source": [
    "print(train_Xu.shape)\n",
    "print(train_yu.shape)"
   ]
  },
  {
   "cell_type": "code",
   "execution_count": 21,
   "metadata": {},
   "outputs": [],
   "source": [
    "test_Xu, test_yu = to_supervised(test, n_input=7, n_out=7)"
   ]
  },
  {
   "cell_type": "code",
   "execution_count": 22,
   "metadata": {},
   "outputs": [
    {
     "name": "stdout",
     "output_type": "stream",
     "text": [
      "(413, 7, 1)\n",
      "(413, 7)\n"
     ]
    }
   ],
   "source": [
    "print(test_Xu.shape)\n",
    "print(test_yu.shape)"
   ]
  },
  {
   "cell_type": "markdown",
   "metadata": {},
   "source": [
    "#### Multi-variate case"
   ]
  },
  {
   "cell_type": "code",
   "execution_count": null,
   "metadata": {},
   "outputs": [],
   "source": []
  },
  {
   "cell_type": "markdown",
   "metadata": {},
   "source": [
    "### save locally"
   ]
  },
  {
   "cell_type": "markdown",
   "metadata": {},
   "source": [
    "#### standard week"
   ]
  },
  {
   "cell_type": "code",
   "execution_count": 23,
   "metadata": {},
   "outputs": [],
   "source": [
    "# input\n",
    "np.save(dir_data+'train_X', train_X)\n",
    "np.save(dir_data+'test_X', test_X)"
   ]
  },
  {
   "cell_type": "code",
   "execution_count": 24,
   "metadata": {},
   "outputs": [],
   "source": [
    "# output\n",
    "np.save(dir_data+'train_y', train_y)\n",
    "np.save(dir_data+'test_y', test_y)"
   ]
  },
  {
   "cell_type": "markdown",
   "metadata": {},
   "source": [
    "#### uni-variate"
   ]
  },
  {
   "cell_type": "code",
   "execution_count": 25,
   "metadata": {},
   "outputs": [],
   "source": [
    "# input\n",
    "np.save(dir_data+'train_Xu', train_Xu)\n",
    "np.save(dir_data+'test_Xu', test_Xu)"
   ]
  },
  {
   "cell_type": "code",
   "execution_count": 26,
   "metadata": {},
   "outputs": [],
   "source": [
    "# output\n",
    "np.save(dir_data+'train_yu', train_yu)\n",
    "np.save(dir_data+'test_yu', test_yu)"
   ]
  },
  {
   "cell_type": "markdown",
   "metadata": {},
   "source": [
    "#### multi-variate"
   ]
  },
  {
   "cell_type": "code",
   "execution_count": null,
   "metadata": {},
   "outputs": [],
   "source": []
  }
 ],
 "metadata": {
  "kernelspec": {
   "display_name": "Python 3",
   "language": "python",
   "name": "python3"
  },
  "language_info": {
   "codemirror_mode": {
    "name": "ipython",
    "version": 3
   },
   "file_extension": ".py",
   "mimetype": "text/x-python",
   "name": "python",
   "nbconvert_exporter": "python",
   "pygments_lexer": "ipython3",
   "version": "3.6.5"
  }
 },
 "nbformat": 4,
 "nbformat_minor": 2
}
