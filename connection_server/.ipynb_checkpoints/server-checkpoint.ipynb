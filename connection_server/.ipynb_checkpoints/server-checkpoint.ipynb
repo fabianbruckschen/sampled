{
 "cells": [
  {
   "cell_type": "code",
   "execution_count": null,
   "metadata": {},
   "outputs": [],
   "source": [
    "#!/usr/bin/env python3\n",
    "\n",
    "import socket                   # Import socket module\n",
    "\n",
    "p = 60000                    # Reserve a port for your service.\n",
    "s = socket.socket()             # Create a socket object\n",
    "host = socket.gethostname()     # Get local machine name\n",
    "s.bind((host, p))            # Bind to the port\n",
    "s.listen(5)                     # Now wait for client connection.\n",
    "\n",
    "print 'Server listening....'\n",
    "\n",
    "while True:\n",
    "    conn, addr = s.accept()     # Establish connection with client.\n",
    "    print 'Got connection from', addr\n",
    "    data = conn.recv(1024)\n",
    "    print('Server received', repr(data))\n",
    "\n",
    "    filename='mytext.txt'\n",
    "    f = open(filename,'rb')\n",
    "    l = f.read(1024)\n",
    "    while (l):\n",
    "       conn.send(l)\n",
    "       print('Sent ',repr(l))\n",
    "       l = f.read(1024)\n",
    "    f.close()\n",
    "\n",
    "    print('Done sending')\n",
    "    conn.send('Thank you for connecting')\n",
    "    conn.close()\n"
   ]
  }
 ],
 "metadata": {
  "kernelspec": {
   "display_name": "Python 3",
   "language": "python",
   "name": "python3"
  },
  "language_info": {
   "codemirror_mode": {
    "name": "ipython",
    "version": 3
   },
   "file_extension": ".py",
   "mimetype": "text/x-python",
   "name": "python",
   "nbconvert_exporter": "python",
   "pygments_lexer": "ipython3",
   "version": "3.6.8"
  }
 },
 "nbformat": 4,
 "nbformat_minor": 2
}
