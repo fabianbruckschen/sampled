{
 "cells": [
  {
   "cell_type": "code",
   "execution_count": 2,
   "metadata": {},
   "outputs": [
    {
     "name": "stdout",
     "output_type": "stream",
     "text": [
      "3.121.154.253 is up!\n"
     ]
    }
   ],
   "source": [
    "import os\n",
    "hostname = \"3.121.154.253\" #example\n",
    "response = os.system(\"ping -c 1 \" + hostname)\n",
    "\n",
    "#and then check the response...\n",
    "if response == 0:\n",
    "  print hostname, 'is up!'\n",
    "else:\n",
    "  print hostname, 'is down!'\n"
   ]
  }
 ],
 "metadata": {
  "kernelspec": {
   "display_name": "Python 3",
   "language": "python",
   "name": "python3"
  },
  "language_info": {
   "codemirror_mode": {
    "name": "ipython",
    "version": 2
   },
   "file_extension": ".py",
   "mimetype": "text/x-python",
   "name": "python",
   "nbconvert_exporter": "python",
   "pygments_lexer": "ipython2",
   "version": "2.7.12"
  }
 },
 "nbformat": 4,
 "nbformat_minor": 2
}
