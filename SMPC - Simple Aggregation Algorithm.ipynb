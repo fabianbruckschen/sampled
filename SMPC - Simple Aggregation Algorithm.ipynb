{
 "cells": [
  {
   "cell_type": "markdown",
   "metadata": {},
   "source": [
    "# SMPC - Simple Aggregation & Multiplication Algorithm "
   ]
  },
  {
   "cell_type": "markdown",
   "metadata": {},
   "source": [
    "This notebook serves as the initial integration of simple aggregation & multiplication algorithms between 3+ parties without revealing their secret values using open source protocols. This is achieved by splitting each value into multiple shares, each of which operate like a private key.\n",
    "\n",
    "Important notes:\n",
    "* each secret is split into 3 shares as default\n",
    "* multiplication protocol only works via splitting into 2 shares for now\n",
    "* honest-but-curious (or passive) security\n"
   ]
  },
  {
   "cell_type": "markdown",
   "metadata": {},
   "source": [
    "## Preparations"
   ]
  },
  {
   "cell_type": "code",
   "execution_count": null,
   "metadata": {},
   "outputs": [],
   "source": [
    "# import modules\n",
    "import random as rd  # generating random numbers for distributions\n",
    "import numpy as np  # handling vectors and matrices\n",
    "from generate_prime import generate_prime_number  # code for generating large prime numbers quickly"
   ]
  },
  {
   "cell_type": "markdown",
   "metadata": {},
   "source": [
    "## Encryption"
   ]
  },
  {
   "cell_type": "markdown",
   "metadata": {},
   "source": [
    "> Encryption doesn't use floats or real numbers but happens in a mathematical space called [integer quotient ring](http://mathworld.wolfram.com/QuotientRing.html) which is basically the integers between `0` and `Q-1`, where `Q` is prime and \\\"big enough\\\" so that the space can contain all the numbers that we use in our algorithms. In practice, given a value `x` integer, we do `x % Q` to fit in the ring. (That's why we avoid using number `x' > Q`)."
   ]
  },
  {
   "cell_type": "code",
   "execution_count": null,
   "metadata": {},
   "outputs": [],
   "source": [
    "Q = generate_prime_number(50)\n",
    "Q"
   ]
  },
  {
   "cell_type": "code",
   "execution_count": null,
   "metadata": {},
   "outputs": [],
   "source": [
    "# enryption function\n",
    "def encrypt(x, n_shares=3):\n",
    "    shares = tuple(rd.randrange(0,Q) for _ in range(n_shares-1))\n",
    "    return (*shares, ((x - sum(shares)) % Q))"
   ]
  },
  {
   "cell_type": "markdown",
   "metadata": {},
   "source": [
    "## Decryption"
   ]
  },
  {
   "cell_type": "code",
   "execution_count": null,
   "metadata": {},
   "outputs": [],
   "source": [
    "# decryption function\n",
    "def decrypt(*shares):\n",
    "    return sum(shares) % Q"
   ]
  },
  {
   "cell_type": "code",
   "execution_count": null,
   "metadata": {},
   "outputs": [],
   "source": [
    "# example encryption\n",
    "ex_shares = encrypt(6041)\n",
    "ex_shares"
   ]
  },
  {
   "cell_type": "code",
   "execution_count": null,
   "metadata": {},
   "outputs": [],
   "source": [
    "decrypt(*ex_shares)"
   ]
  },
  {
   "cell_type": "markdown",
   "metadata": {},
   "source": [
    "## Aggregation Function"
   ]
  },
  {
   "cell_type": "markdown",
   "metadata": {},
   "source": [
    "`x + y = (x0 + x1 + x2) + (y0 + y1 + y2)`\n",
    "\n",
    "`x + y = (x0 + y0) + (x1 + y1) + (x2 + y2)`"
   ]
  },
  {
   "cell_type": "code",
   "execution_count": null,
   "metadata": {},
   "outputs": [],
   "source": [
    "# aggregation algorithm\n",
    "def add(x, y):\n",
    "    # x & y have to have the same number of shares (= length)\n",
    "    return [(x[i] + y[i]) % Q for i in range(len(x))]"
   ]
  },
  {
   "cell_type": "markdown",
   "metadata": {},
   "source": [
    "### Example for adding 3 secrets"
   ]
  },
  {
   "cell_type": "code",
   "execution_count": null,
   "metadata": {},
   "outputs": [],
   "source": [
    "# example\n",
    "# set 3 secret values and encrypt each into 3 (default) shares\n",
    "x = encrypt(6041)\n",
    "y = encrypt(59)\n",
    "z = encrypt(900)\n",
    "# what do the shares look like\n",
    "[x, y, z]"
   ]
  },
  {
   "cell_type": "code",
   "execution_count": null,
   "metadata": {},
   "outputs": [],
   "source": [
    "# add the encrypted values\n",
    "agg = add(add(x,y),z)\n",
    "agg"
   ]
  },
  {
   "cell_type": "code",
   "execution_count": null,
   "metadata": {},
   "outputs": [],
   "source": [
    "# and decrypt the aggregated shares\n",
    "decrypt(*agg)"
   ]
  },
  {
   "cell_type": "markdown",
   "metadata": {},
   "source": [
    "## Multiplication Function (WIP - only works with secrets split in 2 shares for now)"
   ]
  },
  {
   "cell_type": "markdown",
   "metadata": {},
   "source": [
    "`x * y = (x0 + x1) * (y0 + y1)`\n",
    "\n",
    "`x * y = (x0 * y0) + (x1 * y1) + (x0 * y1) + (x1 * y0)`\n",
    "\n",
    "---\n",
    "\n",
    "Masking:\n",
    "* masks: s, t\n",
    "* masked values: alpha, beta\n",
    "\n",
    "---\n",
    "\n",
    "`alpha = (x0 - s0) + (x1 - s1)`\n",
    "\n",
    "`beta = (y0 - t0) + (y1 - t1)`\n",
    "\n",
    "---\n",
    "\n",
    "`z0 = st0 + (s0 * beta) + (alpha * t0) + (alpha * beta)`\n",
    "\n",
    "`z1 = st1 + (s1 * beta) + (alpha * t1)`\n",
    "\n",
    "---\n",
    "\n",
    "Equivalency:\n",
    "`z0 + z1 = x * y`"
   ]
  },
  {
   "cell_type": "code",
   "execution_count": null,
   "metadata": {},
   "outputs": [],
   "source": [
    "# generate additional independent values/keys which have a multiplicative relationship\n",
    "def crypto_generator():\n",
    "    # create triple\n",
    "    s = rd.randrange(0,Q)\n",
    "    t = rd.randrange(0,Q)\n",
    "    st = (s*t)%Q\n",
    "    \n",
    "    # create shares\n",
    "    s0, s1 = encrypt(s, n_shares=2)\n",
    "    t0, t1 = encrypt(t, n_shares=2)\n",
    "    st0, st1 = encrypt(st, n_shares=2)\n",
    "    \n",
    "    return s0, s1, t0, t1, st0, st1\n",
    "\n",
    "# multiplication algorithm\n",
    "def mul(x,y):\n",
    "    s0, s1, t0, t1, st0, st1 = crypto_generator()\n",
    "    \n",
    "    alpha = (x[0]-s0)+(x[1]-s1)\n",
    "    beta = (y[0]-t0)+(y[1]-t1)\n",
    "    \n",
    "    z0 = st0 + (s0 * beta) + (alpha * t0) + (alpha * beta)\n",
    "    z1 = st1 + (s1 * beta) + (alpha * t1)\n",
    "    \n",
    "    return z0%Q, z1%Q"
   ]
  },
  {
   "cell_type": "markdown",
   "metadata": {},
   "source": [
    "### Example for multiplying 2 secrets"
   ]
  },
  {
   "cell_type": "code",
   "execution_count": null,
   "metadata": {},
   "outputs": [],
   "source": [
    "x = encrypt(50, n_shares=2)\n",
    "y = encrypt(12, n_shares=2)"
   ]
  },
  {
   "cell_type": "code",
   "execution_count": null,
   "metadata": {},
   "outputs": [],
   "source": [
    "z = mul(x,y)"
   ]
  },
  {
   "cell_type": "code",
   "execution_count": null,
   "metadata": {},
   "outputs": [],
   "source": [
    "z"
   ]
  },
  {
   "cell_type": "code",
   "execution_count": null,
   "metadata": {},
   "outputs": [],
   "source": [
    "decrypt(*z)"
   ]
  },
  {
   "cell_type": "markdown",
   "metadata": {},
   "source": [
    "## Creating Classes of Private and Public Values"
   ]
  },
  {
   "cell_type": "code",
   "execution_count": null,
   "metadata": {},
   "outputs": [],
   "source": [
    "class PublicValue:\n",
    "    \n",
    "    def __init__(self, value):\n",
    "        self.value = value"
   ]
  },
  {
   "cell_type": "code",
   "execution_count": null,
   "metadata": {},
   "outputs": [],
   "source": [
    "class PrivateValue:\n",
    "\n",
    "    def __init__(self, value, share0=None, share1=None, share2=None):\n",
    "        if not value is None:\n",
    "            share0, share1, share2 = encrypt(value)\n",
    "        self.share0 = share0\n",
    "        self.share1 = share1\n",
    "        self.share2 = share2\n",
    "\n",
    "    def decrypt(self):\n",
    "        return PublicValue(decrypt(self.share0, self.share1, self.share2))\n",
    "    \n",
    "    def add(x, y):\n",
    "        if type(y) is int: y = PublicValue(y)\n",
    "        if type(y) is PublicValue:\n",
    "            share0 = (x.share0 + y.element) % Q\n",
    "            share1 =  x.share1\n",
    "            share2 =  x.share2\n",
    "            return PrivateValue(None, share0, share1, share2)\n",
    "        if type(y) is PrivateValue:\n",
    "            share0 = (x.share0 + y.share0) % Q\n",
    "            share1 = (x.share1 + y.share1) % Q\n",
    "            share2 = (x.share2 + y.share2) % Q\n",
    "            return PrivateValue(None, share0, share1, share2)"
   ]
  },
  {
   "cell_type": "code",
   "execution_count": null,
   "metadata": {},
   "outputs": [],
   "source": [
    "x = PrivateValue(5)\n",
    "y = PrivateValue(12)"
   ]
  },
  {
   "cell_type": "code",
   "execution_count": null,
   "metadata": {},
   "outputs": [],
   "source": [
    "z = x.add(y=y)"
   ]
  },
  {
   "cell_type": "code",
   "execution_count": null,
   "metadata": {},
   "outputs": [],
   "source": [
    "decrypt(z.share0, z.share1, z.share2)"
   ]
  }
 ],
 "metadata": {
  "kernelspec": {
   "display_name": "Python 3",
   "language": "python",
   "name": "python3"
  },
  "language_info": {
   "codemirror_mode": {
    "name": "ipython",
    "version": 3
   },
   "file_extension": ".py",
   "mimetype": "text/x-python",
   "name": "python",
   "nbconvert_exporter": "python",
   "pygments_lexer": "ipython3",
   "version": "3.6.5"
  }
 },
 "nbformat": 4,
 "nbformat_minor": 2
}
