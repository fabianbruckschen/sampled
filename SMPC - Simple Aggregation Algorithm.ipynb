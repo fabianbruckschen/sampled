{
 "cells": [
  {
   "cell_type": "markdown",
   "metadata": {},
   "source": [
    "# SMPC - Simple Aggregation Algorithm "
   ]
  },
  {
   "cell_type": "markdown",
   "metadata": {},
   "source": [
    "This notebook serves as the initial integration of a simple aggregation algorithm between 3+ parties without revealing their secret values using open source protocols. This is achieved by splitting each value into multiple shares, each of which operate like a private key.\n",
    "\n",
    "Important notes:\n",
    "* each secret is split into 3 shares for now.\n",
    "* honest-but-curious (or passive) security\n"
   ]
  },
  {
   "cell_type": "markdown",
   "metadata": {},
   "source": [
    "## Preparations"
   ]
  },
  {
   "cell_type": "code",
   "execution_count": 1,
   "metadata": {},
   "outputs": [],
   "source": [
    "# import modules\n",
    "import random as rd  # generating random numbers for distributions\n",
    "import numpy as np  # handling vectors and matrices\n",
    "from generate_prime import generate_prime_number  # code for generating large prime numbers quickly"
   ]
  },
  {
   "cell_type": "markdown",
   "metadata": {},
   "source": [
    "## Encryption"
   ]
  },
  {
   "cell_type": "markdown",
   "metadata": {},
   "source": [
    "> Encryption doesn't use floats or real numbers but happens in a mathematical space called [integer quotient ring](http://mathworld.wolfram.com/QuotientRing.html) which is basically the integers between `0` and `Q-1`, where `Q` is prime and \\\"big enough\\\" so that the space can contain all the numbers that we use in our experiments. In practice, given a value `x` integer, we do `x % Q` to fit in the ring. (That's why we avoid using number `x' > Q`)."
   ]
  },
  {
   "cell_type": "code",
   "execution_count": 2,
   "metadata": {},
   "outputs": [
    {
     "data": {
      "text/plain": [
       "1103316058601747"
      ]
     },
     "execution_count": 2,
     "metadata": {},
     "output_type": "execute_result"
    }
   ],
   "source": [
    "Q = generate_prime_number(50)\n",
    "Q"
   ]
  },
  {
   "cell_type": "code",
   "execution_count": 88,
   "metadata": {},
   "outputs": [],
   "source": [
    "def encrypt(x, n_shares=3):\n",
    "    shares = tuple(rd.randrange(0,Q) for _ in range(n_shares-1))\n",
    "    return (*shares, ((x - sum(shares)) % Q))"
   ]
  },
  {
   "cell_type": "code",
   "execution_count": 89,
   "metadata": {},
   "outputs": [
    {
     "data": {
      "text/plain": [
       "(319041439621850, 961122320409415, 926468357178270)"
      ]
     },
     "execution_count": 89,
     "metadata": {},
     "output_type": "execute_result"
    }
   ],
   "source": [
    "shares = encrypt(6041)\n",
    "shares"
   ]
  },
  {
   "cell_type": "markdown",
   "metadata": {},
   "source": [
    "## Decryption"
   ]
  },
  {
   "cell_type": "code",
   "execution_count": 91,
   "metadata": {},
   "outputs": [],
   "source": [
    "def decrypt(*shares):\n",
    "    return sum(shares) % Q"
   ]
  },
  {
   "cell_type": "code",
   "execution_count": 92,
   "metadata": {},
   "outputs": [
    {
     "data": {
      "text/plain": [
       "6041"
      ]
     },
     "execution_count": 92,
     "metadata": {},
     "output_type": "execute_result"
    }
   ],
   "source": [
    "decrypt(*shares)"
   ]
  },
  {
   "cell_type": "markdown",
   "metadata": {},
   "source": [
    "## Aggregation Function"
   ]
  },
  {
   "cell_type": "markdown",
   "metadata": {},
   "source": [
    "`x + y = (x0 + x1 + x2) + (y0 + y1 + y2)`\n",
    "\n",
    "`x + y = (x0 + y0) + (x1 + y1) + (x2 + y2)`"
   ]
  },
  {
   "cell_type": "code",
   "execution_count": 123,
   "metadata": {},
   "outputs": [],
   "source": [
    "def add(x, y):\n",
    "    return [(x[i] + y[i]) % Q for i in range(len(x))]  # x & y have to have the same number of shares (= length)"
   ]
  },
  {
   "cell_type": "markdown",
   "metadata": {},
   "source": [
    "### Example for adding 3 secrets"
   ]
  },
  {
   "cell_type": "code",
   "execution_count": 124,
   "metadata": {},
   "outputs": [
    {
     "data": {
      "text/plain": [
       "[(603491997781816, 631845925417737, 971294194009982),\n",
       " (702683904294614, 601958935897033, 901989277011906),\n",
       " (708402705181507, 533783530249363, 964445881773524)]"
      ]
     },
     "execution_count": 124,
     "metadata": {},
     "output_type": "execute_result"
    }
   ],
   "source": [
    "# example\n",
    "# set 3 secret values and encrypt each into 3 (default) shares\n",
    "x = encrypt(6041)\n",
    "y = encrypt(59)\n",
    "z = encrypt(900)\n",
    "# what do the shares look like\n",
    "[x, y, z]"
   ]
  },
  {
   "cell_type": "code",
   "execution_count": 125,
   "metadata": {},
   "outputs": [
    {
     "data": {
      "text/plain": [
       "[2014578607257937, 1767588391564133, 2837729352795412]"
      ]
     },
     "execution_count": 125,
     "metadata": {},
     "output_type": "execute_result"
    }
   ],
   "source": [
    "# add the encrypted values\n",
    "agg = add(add(x,y),z)\n",
    "agg"
   ]
  },
  {
   "cell_type": "code",
   "execution_count": 126,
   "metadata": {},
   "outputs": [
    {
     "data": {
      "text/plain": [
       "7000"
      ]
     },
     "execution_count": 126,
     "metadata": {},
     "output_type": "execute_result"
    }
   ],
   "source": [
    "# and decrypt the aggregated shares\n",
    "decrypt(*agg)"
   ]
  },
  {
   "cell_type": "markdown",
   "metadata": {},
   "source": [
    "## Multiplication Function"
   ]
  },
  {
   "cell_type": "markdown",
   "metadata": {},
   "source": [
    "`x * y = (x0 + x1 + x2) * (y0 + y1 + y2)`\n",
    "\n",
    "`x * y = (x0 * y0) + (x1 * y1) + (x2 * y2) + (x0 * y1) + (x0 * y2) + (x1 * y0) + (x1 * y2) + (x2 * y0) + (x2 * y1)`\n",
    "\n",
    "* masks: s, t\n",
    "* masked values: alpha, beta\n",
    "\n",
    "`z0 = st0 + (s0 * beta) + (alpha * t0) + (alpha * beta)`\n",
    "\n",
    "`z1 = st1 + (s1 * beta) + (alpha * t1)`\n",
    "\n",
    "`alpha = (x0 - s0) + (x1 - s1)`\n",
    "\n",
    "`beta = (y0 - t0) + (y1 - t1)`\n"
   ]
  },
  {
   "cell_type": "markdown",
   "metadata": {},
   "source": [
    "## Creating Classes of Private and Public Values"
   ]
  },
  {
   "cell_type": "code",
   "execution_count": 127,
   "metadata": {},
   "outputs": [],
   "source": [
    "class PublicValue:\n",
    "    \n",
    "    def __init__(self, value):\n",
    "        self.value = value"
   ]
  },
  {
   "cell_type": "code",
   "execution_count": 128,
   "metadata": {},
   "outputs": [],
   "source": [
    "class PrivateValue:\n",
    "\n",
    "    def __init__(self, value, share0=None, share1=None, share2=None):\n",
    "        if not value is None:\n",
    "            share0, share1, share2 = encrypt(value)\n",
    "        self.share0 = share0\n",
    "        self.share1 = share1\n",
    "        self.share2 = share2\n",
    "\n",
    "    def decrypt(self):\n",
    "        return PublicValue(decrypt(self.share0, self.share1, self.share2))\n",
    "    \n",
    "    def add(x, y):\n",
    "        if type(y) is int: y = PublicValue(y)\n",
    "        if type(y) is PublicValue:\n",
    "            share0 = (x.share0 + y.element) % Q\n",
    "            share1 =  x.share1\n",
    "            share2 =  x.share2\n",
    "            return PrivateValue(None, share0, share1, share2)\n",
    "        if type(y) is PrivateValue:\n",
    "            share0 = (x.share0 + y.share0) % Q\n",
    "            share1 = (x.share1 + y.share1) % Q\n",
    "            share2 = (x.share2 + y.share2) % Q\n",
    "            return PrivateValue(None, share0, share1, share2)"
   ]
  },
  {
   "cell_type": "code",
   "execution_count": 129,
   "metadata": {},
   "outputs": [],
   "source": [
    "x = PrivateValue(5)\n",
    "y = PrivateValue(12)"
   ]
  },
  {
   "cell_type": "code",
   "execution_count": 134,
   "metadata": {},
   "outputs": [],
   "source": [
    "z = x.add(y=y)"
   ]
  },
  {
   "cell_type": "code",
   "execution_count": 136,
   "metadata": {},
   "outputs": [
    {
     "data": {
      "text/plain": [
       "17"
      ]
     },
     "execution_count": 136,
     "metadata": {},
     "output_type": "execute_result"
    }
   ],
   "source": [
    "decrypt(z.share0, z.share1, z.share2)"
   ]
  },
  {
   "cell_type": "code",
   "execution_count": null,
   "metadata": {},
   "outputs": [],
   "source": []
  }
 ],
 "metadata": {
  "kernelspec": {
   "display_name": "Python 3",
   "language": "python",
   "name": "python3"
  },
  "language_info": {
   "codemirror_mode": {
    "name": "ipython",
    "version": 3
   },
   "file_extension": ".py",
   "mimetype": "text/x-python",
   "name": "python",
   "nbconvert_exporter": "python",
   "pygments_lexer": "ipython3",
   "version": "3.6.5"
  }
 },
 "nbformat": 4,
 "nbformat_minor": 2
}
