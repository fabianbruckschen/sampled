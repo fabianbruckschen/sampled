{
 "cells": [
  {
   "cell_type": "code",
   "execution_count": null,
   "metadata": {},
   "outputs": [],
   "source": [
    "# import modules\n",
    "import os\n",
    "\n",
    "# options\n",
    "hostname = \"3.121.154.253\"  # example\n",
    "response = os.system(\"ping -c 1 \" + hostname)\n",
    "\n",
    "# and then check the response...\n",
    "if response == 0:\n",
    "  print hostname, 'is up!'\n",
    "else:\n",
    "  print hostname, 'is down!'"
   ]
  }
 ],
 "metadata": {
  "kernelspec": {
   "display_name": "Python 3",
   "language": "python",
   "name": "python3"
  },
  "language_info": {
   "codemirror_mode": {
    "name": "ipython",
    "version": 3
   },
   "file_extension": ".py",
   "mimetype": "text/x-python",
   "name": "python",
   "nbconvert_exporter": "python",
   "pygments_lexer": "ipython3",
   "version": "3.6.5"
  }
 },
 "nbformat": 4,
 "nbformat_minor": 2
}
