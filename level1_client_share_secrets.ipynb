{
 "cells": [
  {
   "cell_type": "markdown",
   "metadata": {},
   "source": [
    "# Level 1\n",
    "# Client sends 2 of 3 parts of encrypted data to other parties via pickle"
   ]
  },
  {
   "cell_type": "markdown",
   "metadata": {},
   "source": [
    "## Preparations"
   ]
  },
  {
   "cell_type": "code",
   "execution_count": 1,
   "metadata": {},
   "outputs": [],
   "source": [
    "# modules\n",
    "import socket  # creating server client connections for efficient communication\n",
    "import pickle  # efficient file saving & loading\n",
    "import time  # for stopping runtimes\n",
    "import pandas as pd  # data mangling and transforming\n",
    "import numpy as np  # matrix manipulations\n",
    "from datetime import datetime  # for timestamps"
   ]
  },
  {
   "cell_type": "code",
   "execution_count": 2,
   "metadata": {},
   "outputs": [],
   "source": [
    "# hostnames & ips\n",
    "file = open('data/hosts&ips.txt', 'r')\n",
    "hoips = eval(file.read())\n",
    "file.close()"
   ]
  },
  {
   "cell_type": "code",
   "execution_count": 3,
   "metadata": {},
   "outputs": [],
   "source": [
    "# read local encrypted data\n",
    "file = open('data/encryptedData.pickle', 'rb')\n",
    "d = pickle.load(file)"
   ]
  },
  {
   "cell_type": "code",
   "execution_count": 4,
   "metadata": {},
   "outputs": [
    {
     "data": {
      "text/html": [
       "<div>\n",
       "<style scoped>\n",
       "    .dataframe tbody tr th:only-of-type {\n",
       "        vertical-align: middle;\n",
       "    }\n",
       "\n",
       "    .dataframe tbody tr th {\n",
       "        vertical-align: top;\n",
       "    }\n",
       "\n",
       "    .dataframe thead th {\n",
       "        text-align: right;\n",
       "    }\n",
       "</style>\n",
       "<table border=\"1\" class=\"dataframe\">\n",
       "  <thead>\n",
       "    <tr style=\"text-align: right;\">\n",
       "      <th></th>\n",
       "      <th>A</th>\n",
       "      <th>B</th>\n",
       "      <th>C</th>\n",
       "    </tr>\n",
       "  </thead>\n",
       "  <tbody>\n",
       "    <tr>\n",
       "      <th>0</th>\n",
       "      <td>125820321684298</td>\n",
       "      <td>629354618959742</td>\n",
       "      <td>251765971729910</td>\n",
       "    </tr>\n",
       "    <tr>\n",
       "      <th>1</th>\n",
       "      <td>665466071134522</td>\n",
       "      <td>648764718352416</td>\n",
       "      <td>699651035261010</td>\n",
       "    </tr>\n",
       "    <tr>\n",
       "      <th>2</th>\n",
       "      <td>724823636822258</td>\n",
       "      <td>514316706100850</td>\n",
       "      <td>774741481824885</td>\n",
       "    </tr>\n",
       "    <tr>\n",
       "      <th>3</th>\n",
       "      <td>887847320418247</td>\n",
       "      <td>122079018157604</td>\n",
       "      <td>1003955486172115</td>\n",
       "    </tr>\n",
       "    <tr>\n",
       "      <th>4</th>\n",
       "      <td>796475940889343</td>\n",
       "      <td>344551829057487</td>\n",
       "      <td>872854054801105</td>\n",
       "    </tr>\n",
       "  </tbody>\n",
       "</table>\n",
       "</div>"
      ],
      "text/plain": [
       "                 A                B                 C\n",
       "0  125820321684298  629354618959742   251765971729910\n",
       "1  665466071134522  648764718352416   699651035261010\n",
       "2  724823636822258  514316706100850   774741481824885\n",
       "3  887847320418247  122079018157604  1003955486172115\n",
       "4  796475940889343  344551829057487   872854054801105"
      ]
     },
     "execution_count": 4,
     "metadata": {},
     "output_type": "execute_result"
    }
   ],
   "source": [
    "d.head()"
   ]
  },
  {
   "cell_type": "markdown",
   "metadata": {},
   "source": [
    "## Communication with other parties"
   ]
  },
  {
   "cell_type": "markdown",
   "metadata": {},
   "source": [
    "### Establish connection to other parties (servers)"
   ]
  },
  {
   "cell_type": "code",
   "execution_count": 5,
   "metadata": {},
   "outputs": [],
   "source": [
    "# start timing\n",
    "start = time.time()\n",
    "# general options\n",
    "s0 = socket.socket()  # Create socket object 0\n",
    "s1 = socket.socket()  # Create socket object 1\n",
    "client = socket.gethostname()  # define current machine as client\n",
    "port = 60387  # Reserve a port for your service."
   ]
  },
  {
   "cell_type": "code",
   "execution_count": 6,
   "metadata": {},
   "outputs": [],
   "source": [
    "# other parties as servers\n",
    "servers = [key for key, value in hoips['hosts'].items() if value not in client]\n",
    "server0 = hoips['hosts'][servers[0]]\n",
    "server1 = hoips['hosts'][servers[1]]"
   ]
  },
  {
   "cell_type": "code",
   "execution_count": 7,
   "metadata": {},
   "outputs": [
    {
     "name": "stdout",
     "output_type": "stream",
     "text": [
      "Server0 (chris): ip-172-31-38-9\n",
      "Server1 (max): ip-172-31-44-44\n",
      "Client: ip-172-31-46-89\n"
     ]
    }
   ],
   "source": [
    "# double-check parties\n",
    "print('Server0 ('+servers[0]+'): '+server0)\n",
    "print('Server1 ('+servers[1]+'): '+server1)\n",
    "print('Client: '+client)"
   ]
  },
  {
   "cell_type": "code",
   "execution_count": 8,
   "metadata": {},
   "outputs": [],
   "source": [
    "# connect\n",
    "s0.connect((server0, port))\n",
    "s1.connect((server1, port))"
   ]
  },
  {
   "cell_type": "markdown",
   "metadata": {},
   "source": [
    "### Send data"
   ]
  },
  {
   "cell_type": "code",
   "execution_count": 9,
   "metadata": {},
   "outputs": [],
   "source": [
    "msg0 = pickle.dumps(d['A'])\n",
    "msg1 = pickle.dumps(d['B'])"
   ]
  },
  {
   "cell_type": "code",
   "execution_count": 10,
   "metadata": {},
   "outputs": [
    {
     "data": {
      "text/plain": [
       "1516"
      ]
     },
     "execution_count": 10,
     "metadata": {},
     "output_type": "execute_result"
    }
   ],
   "source": [
    "# send it\n",
    "s0.send(msg0)\n",
    "s1.send(msg1)"
   ]
  },
  {
   "cell_type": "code",
   "execution_count": 11,
   "metadata": {},
   "outputs": [],
   "source": [
    "# close sockets\n",
    "s0.close()\n",
    "s1.close()"
   ]
  },
  {
   "cell_type": "markdown",
   "metadata": {},
   "source": [
    "### Save timer"
   ]
  },
  {
   "cell_type": "code",
   "execution_count": 12,
   "metadata": {},
   "outputs": [],
   "source": [
    "# timer\n",
    "end = time.time()\n",
    "df_timer = pd.DataFrame(data={'phase': '1: Secret Sharing',\n",
    "                              'timestamp': str(datetime.utcnow()),\n",
    "                              'n_secrets': len(d),\n",
    "                              'seconds': [round(end-start,2)]})\n",
    "\n",
    "with open('data/timer.csv', 'a') as f:\n",
    "    df_timer.to_csv(f, header=False)"
   ]
  }
 ],
 "metadata": {
  "kernelspec": {
   "display_name": "Python 3",
   "language": "python",
   "name": "python3"
  },
  "language_info": {
   "codemirror_mode": {
    "name": "ipython",
    "version": 3
   },
   "file_extension": ".py",
   "mimetype": "text/x-python",
   "name": "python",
   "nbconvert_exporter": "python",
   "pygments_lexer": "ipython3",
   "version": "3.6.8"
  }
 },
 "nbformat": 4,
 "nbformat_minor": 2
}
