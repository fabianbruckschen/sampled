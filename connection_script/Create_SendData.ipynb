{
 "cells": [
  {
   "cell_type": "markdown",
   "metadata": {},
   "source": [
    "Erstellung einer xml-Datei, die auf einen anderen Server versendet wird"
   ]
  },
  {
   "cell_type": "code",
   "execution_count": 1,
   "metadata": {},
   "outputs": [],
   "source": [
    "f = file('test.xml', 'w')\n",
    "f.write('wert q\\n')\n",
    "f.write('wert q1\\n')\n",
    "print >>f, 'tolle dritte Zeile'\n",
    "f.close()"
   ]
  },
  {
   "cell_type": "markdown",
   "metadata": {},
   "source": [
    "Server-Connection and Data Send"
   ]
  },
  {
   "cell_type": "code",
   "execution_count": null,
   "metadata": {},
   "outputs": [
    {
     "name": "stdout",
     "output_type": "stream",
     "text": [
      "Server listening....\n"
     ]
    }
   ],
   "source": [
    "# server.py\n",
    "\n",
    "import socket                   # Import socket module\n",
    "\n",
    "port = 60000                    # Reserve a port for your service.\n",
    "s = socket.socket()             # Create a socket object\n",
    "host = socket.gethostname()     # Get local machine name\n",
    "s.bind((host, port))            # Bind to the port\n",
    "s.listen(5)                     # Now wait for client connection.\n",
    "\n",
    "print 'Server listening....'\n",
    "\n",
    "while True:\n",
    "    conn, addr = s.accept()     # Establish connection with client.\n",
    "    print 'Got connection from', addr\n",
    "    data = conn.recv(1024)\n",
    "    print('Server received', repr(data))\n",
    "\n",
    "    filename='test.xml'\n",
    "    f = open(filename,'rb')\n",
    "    l = f.read(1024)\n",
    "    while (l):\n",
    "       conn.send(l)\n",
    "       print('Sent ',repr(l))\n",
    "       l = f.read(1024)\n",
    "    f.close()\n",
    "\n",
    "    print('Done sending')\n",
    "    conn.send('Thank you for connecting')\n",
    "    conn.close()"
   ]
  },
  {
   "cell_type": "code",
   "execution_count": 17,
   "metadata": {},
   "outputs": [],
   "source": []
  },
  {
   "cell_type": "code",
   "execution_count": null,
   "metadata": {},
   "outputs": [],
   "source": []
  },
  {
   "cell_type": "code",
   "execution_count": null,
   "metadata": {},
   "outputs": [],
   "source": []
  }
 ],
 "metadata": {
  "kernelspec": {
   "display_name": "Python 3",
   "language": "python",
   "name": "python3"
  },
  "language_info": {
   "codemirror_mode": {
    "name": "ipython",
    "version": 2
   },
   "file_extension": ".py",
   "mimetype": "text/x-python",
   "name": "python",
   "nbconvert_exporter": "python",
   "pygments_lexer": "ipython2",
   "version": "2.7.12"
  }
 },
 "nbformat": 4,
 "nbformat_minor": 2
}
