{
 "cells": [
  {
   "cell_type": "markdown",
   "metadata": {},
   "source": [
    "# Create Sample Data & Encrypt it"
   ]
  },
  {
   "cell_type": "markdown",
   "metadata": {},
   "source": [
    "## Preparations"
   ]
  },
  {
   "cell_type": "code",
   "execution_count": 1,
   "metadata": {},
   "outputs": [],
   "source": [
    "# import modules\n",
    "import pickle  # saving files as pickles\n",
    "import time  # for stopping runtimes\n",
    "import pandas as pd  # data mangling and transforming\n",
    "import numpy as np  # handling vectors and matrices\n",
    "from datetime import datetime  # for timestamps\n",
    "from secret_sharing import encrypt  # import additive secret sharing encryption"
   ]
  },
  {
   "cell_type": "code",
   "execution_count": 2,
   "metadata": {},
   "outputs": [],
   "source": [
    "# start timer\n",
    "start = time.time()"
   ]
  },
  {
   "cell_type": "code",
   "execution_count": 3,
   "metadata": {},
   "outputs": [],
   "source": [
    "# large prime number (key, hardcoded for now)\n",
    "Q = 1006940912373947"
   ]
  },
  {
   "cell_type": "code",
   "execution_count": 4,
   "metadata": {},
   "outputs": [],
   "source": [
    "# minimum and maximum value a secret can achieve\n",
    "min_value = 0\n",
    "max_value = 100"
   ]
  },
  {
   "cell_type": "code",
   "execution_count": 5,
   "metadata": {},
   "outputs": [],
   "source": [
    "# define number of parties and rows per party\n",
    "n_parties = 3  # columns\n",
    "n_secrets = 100  # rows"
   ]
  },
  {
   "cell_type": "code",
   "execution_count": 6,
   "metadata": {},
   "outputs": [],
   "source": [
    "# name columns alphabetically\n",
    "cnames = []\n",
    "for i in range(n_parties):\n",
    "    cnames.append(chr(i+65))  # 65 is ASCII for capital A"
   ]
  },
  {
   "cell_type": "markdown",
   "metadata": {},
   "source": [
    "## Dataset"
   ]
  },
  {
   "cell_type": "markdown",
   "metadata": {},
   "source": [
    "### random values"
   ]
  },
  {
   "cell_type": "code",
   "execution_count": 7,
   "metadata": {},
   "outputs": [],
   "source": [
    "# define random seed\n",
    "np.random.seed(8888)"
   ]
  },
  {
   "cell_type": "code",
   "execution_count": 8,
   "metadata": {},
   "outputs": [
    {
     "data": {
      "text/plain": [
       "array([ 3, 54, 99, 72, 41])"
      ]
     },
     "execution_count": 8,
     "metadata": {},
     "output_type": "execute_result"
    }
   ],
   "source": [
    "# create centralised dataset\n",
    "odat = np.random.randint(min_value, max_value, n_secrets)\n",
    "odat[:5]"
   ]
  },
  {
   "cell_type": "code",
   "execution_count": 9,
   "metadata": {},
   "outputs": [],
   "source": [
    "# save as pickle\n",
    "with open('data/originalData.pickle','wb') as f:\n",
    "    pickle.dump(odat, f)"
   ]
  },
  {
   "cell_type": "markdown",
   "metadata": {},
   "source": [
    "### secret sharing"
   ]
  },
  {
   "cell_type": "code",
   "execution_count": 10,
   "metadata": {},
   "outputs": [],
   "source": [
    "# encrypted dataframe\n",
    "edat = pd.DataFrame(columns=cnames)\n",
    "for i in odat:\n",
    "    edat = edat.append(pd.Series(encrypt(i, Q, n_shares=n_parties), \n",
    "                                 index=edat.columns), \n",
    "                       ignore_index=True)"
   ]
  },
  {
   "cell_type": "code",
   "execution_count": 11,
   "metadata": {},
   "outputs": [
    {
     "data": {
      "text/html": [
       "<div>\n",
       "<style scoped>\n",
       "    .dataframe tbody tr th:only-of-type {\n",
       "        vertical-align: middle;\n",
       "    }\n",
       "\n",
       "    .dataframe tbody tr th {\n",
       "        vertical-align: top;\n",
       "    }\n",
       "\n",
       "    .dataframe thead th {\n",
       "        text-align: right;\n",
       "    }\n",
       "</style>\n",
       "<table border=\"1\" class=\"dataframe\">\n",
       "  <thead>\n",
       "    <tr style=\"text-align: right;\">\n",
       "      <th></th>\n",
       "      <th>A</th>\n",
       "      <th>B</th>\n",
       "      <th>C</th>\n",
       "    </tr>\n",
       "  </thead>\n",
       "  <tbody>\n",
       "    <tr>\n",
       "      <th>0</th>\n",
       "      <td>930590369014411</td>\n",
       "      <td>584174375560121</td>\n",
       "      <td>499117080173365</td>\n",
       "    </tr>\n",
       "    <tr>\n",
       "      <th>1</th>\n",
       "      <td>556835531640402</td>\n",
       "      <td>413405835354387</td>\n",
       "      <td>36699545379212</td>\n",
       "    </tr>\n",
       "    <tr>\n",
       "      <th>2</th>\n",
       "      <td>219826517539471</td>\n",
       "      <td>31435837547176</td>\n",
       "      <td>755678557287399</td>\n",
       "    </tr>\n",
       "    <tr>\n",
       "      <th>3</th>\n",
       "      <td>750291444250387</td>\n",
       "      <td>636788533755155</td>\n",
       "      <td>626801846742424</td>\n",
       "    </tr>\n",
       "    <tr>\n",
       "      <th>4</th>\n",
       "      <td>432499627207839</td>\n",
       "      <td>612630040642379</td>\n",
       "      <td>968752156897717</td>\n",
       "    </tr>\n",
       "  </tbody>\n",
       "</table>\n",
       "</div>"
      ],
      "text/plain": [
       "                 A                B                C\n",
       "0  930590369014411  584174375560121  499117080173365\n",
       "1  556835531640402  413405835354387   36699545379212\n",
       "2  219826517539471   31435837547176  755678557287399\n",
       "3  750291444250387  636788533755155  626801846742424\n",
       "4  432499627207839  612630040642379  968752156897717"
      ]
     },
     "execution_count": 11,
     "metadata": {},
     "output_type": "execute_result"
    }
   ],
   "source": [
    "edat.head()"
   ]
  },
  {
   "cell_type": "markdown",
   "metadata": {},
   "source": [
    "Looks legit, let's save it!"
   ]
  },
  {
   "cell_type": "markdown",
   "metadata": {},
   "source": [
    "### Save data and time"
   ]
  },
  {
   "cell_type": "code",
   "execution_count": 12,
   "metadata": {},
   "outputs": [],
   "source": [
    "# data\n",
    "edat.to_pickle('data/encryptedData.pickle')"
   ]
  },
  {
   "cell_type": "code",
   "execution_count": 13,
   "metadata": {},
   "outputs": [],
   "source": [
    "# timer\n",
    "end = time.time()\n",
    "df_timer = pd.DataFrame(data={'phase': '0: Data Creation and Encryption',\n",
    "                              'timestamp': str(datetime.utcnow()),\n",
    "                              'n_secrets': n_secrets,\n",
    "                              'seconds': [round(end-start,2)]})\n",
    "\n",
    "with open('data/timer.csv', 'a') as f:\n",
    "    df_timer.to_csv(f, header=False)"
   ]
  }
 ],
 "metadata": {
  "kernelspec": {
   "display_name": "Python 3",
   "language": "python",
   "name": "python3"
  },
  "language_info": {
   "codemirror_mode": {
    "name": "ipython",
    "version": 3
   },
   "file_extension": ".py",
   "mimetype": "text/x-python",
   "name": "python",
   "nbconvert_exporter": "python",
   "pygments_lexer": "ipython3",
   "version": "3.6.8"
  }
 },
 "nbformat": 4,
 "nbformat_minor": 2
}
