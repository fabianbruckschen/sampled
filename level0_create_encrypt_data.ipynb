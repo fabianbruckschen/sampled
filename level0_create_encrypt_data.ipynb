{
 "cells": [
  {
   "cell_type": "markdown",
   "metadata": {},
   "source": [
    "# Create Sample Data & Encrypt it"
   ]
  },
  {
   "cell_type": "markdown",
   "metadata": {},
   "source": [
    "## Preparations"
   ]
  },
  {
   "cell_type": "code",
   "execution_count": null,
   "metadata": {},
   "outputs": [],
   "source": [
    "# import modules\n",
    "import pickle  # saving files as pickles\n",
    "import time  # for stopping runtimes\n",
    "import pandas as pd  # data mangling and transforming\n",
    "import numpy as np  # handling vectors and matrices\n",
    "from datetime import datetime  # for timestamps\n",
    "from secret_sharing import encrypt  # import additive secret sharing encryption"
   ]
  },
  {
   "cell_type": "code",
   "execution_count": null,
   "metadata": {},
   "outputs": [],
   "source": [
    "# start timer\n",
    "start = time.time()"
   ]
  },
  {
   "cell_type": "code",
   "execution_count": null,
   "metadata": {},
   "outputs": [],
   "source": [
    "# large prime number (key, hardcoded for now)\n",
    "Q = 1006940912373947"
   ]
  },
  {
   "cell_type": "code",
   "execution_count": null,
   "metadata": {},
   "outputs": [],
   "source": [
    "# minimum and maximum value a secret can achieve\n",
    "min_value = 0\n",
    "max_value = 10000"
   ]
  },
  {
   "cell_type": "code",
   "execution_count": null,
   "metadata": {},
   "outputs": [],
   "source": [
    "# define number of parties and rows per party\n",
    "n_parties = 3  # columns\n",
    "n_secrets = 10000 # rows"
   ]
  },
  {
   "cell_type": "code",
   "execution_count": null,
   "metadata": {},
   "outputs": [],
   "source": [
    "# name columns alphabetically\n",
    "cnames = []\n",
    "for i in range(n_parties):\n",
    "    cnames.append(chr(i+65))  # 65 is ASCII for capital A"
   ]
  },
  {
   "cell_type": "markdown",
   "metadata": {},
   "source": [
    "## Dataset"
   ]
  },
  {
   "cell_type": "markdown",
   "metadata": {},
   "source": [
    "### random values"
   ]
  },
  {
   "cell_type": "code",
   "execution_count": null,
   "metadata": {},
   "outputs": [],
   "source": [
    "# define random seed\n",
    "np.random.seed(8888)"
   ]
  },
  {
   "cell_type": "code",
   "execution_count": null,
   "metadata": {},
   "outputs": [],
   "source": [
    "# create centralised dataset\n",
    "odat = np.random.randint(min_value, max_value, n_secrets)\n",
    "odat[:5]"
   ]
  },
  {
   "cell_type": "code",
   "execution_count": null,
   "metadata": {},
   "outputs": [],
   "source": [
    "# save as pickle\n",
    "with open('data/originalData.pickle','wb') as f:\n",
    "    pickle.dump(odat, f)"
   ]
  },
  {
   "cell_type": "markdown",
   "metadata": {},
   "source": [
    "### secret sharing"
   ]
  },
  {
   "cell_type": "code",
   "execution_count": null,
   "metadata": {},
   "outputs": [],
   "source": [
    "# encrypted dataframe\n",
    "edat = pd.DataFrame(columns=cnames)\n",
    "for i in odat:\n",
    "    edat = edat.append(pd.Series(encrypt(i, Q, n_shares=n_parties), \n",
    "                                 index=edat.columns), \n",
    "                       ignore_index=True)"
   ]
  },
  {
   "cell_type": "code",
   "execution_count": null,
   "metadata": {},
   "outputs": [],
   "source": [
    "edat.head()"
   ]
  },
  {
   "cell_type": "markdown",
   "metadata": {},
   "source": [
    "Looks legit, let's save it!"
   ]
  },
  {
   "cell_type": "markdown",
   "metadata": {},
   "source": [
    "### Save data and time"
   ]
  },
  {
   "cell_type": "code",
   "execution_count": null,
   "metadata": {},
   "outputs": [],
   "source": [
    "# data\n",
    "edat.to_pickle('data/encryptedData.pickle')"
   ]
  },
  {
   "cell_type": "code",
   "execution_count": null,
   "metadata": {},
   "outputs": [],
   "source": [
    "# timer\n",
    "end = time.time()\n",
    "df_timer = pd.DataFrame(data={'phase': '0: Data Creation and Encryption',\n",
    "                              'timestamp': str(datetime.utcnow()),\n",
    "                              'n_secrets': n_secrets,\n",
    "                              'seconds': [round(end-start,2)]})\n",
    "\n",
    "with open('data/timer.csv', 'a') as f:\n",
    "    df_timer.to_csv(f, header=False)"
   ]
  }
 ],
 "metadata": {
  "kernelspec": {
   "display_name": "Python 3",
   "language": "python",
   "name": "python3"
  },
  "language_info": {
   "codemirror_mode": {
    "name": "ipython",
    "version": 3
   },
   "file_extension": ".py",
   "mimetype": "text/x-python",
   "name": "python",
   "nbconvert_exporter": "python",
   "pygments_lexer": "ipython3",
   "version": "3.6.8"
  }
 },
 "nbformat": 4,
 "nbformat_minor": 2
}
