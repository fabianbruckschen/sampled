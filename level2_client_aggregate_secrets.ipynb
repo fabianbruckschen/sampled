{
 "cells": [
  {
   "cell_type": "markdown",
   "metadata": {},
   "source": [
    "# Level 2\n",
    "# Client aggregates received 2 shares plus the one it kept and broadcasts solution"
   ]
  },
  {
   "cell_type": "markdown",
   "metadata": {},
   "source": [
    "## Preparations"
   ]
  },
  {
   "cell_type": "code",
   "execution_count": 1,
   "metadata": {},
   "outputs": [],
   "source": [
    "# modules\n",
    "import socket  # creating server client connections for efficient communication\n",
    "import pickle  # efficient file saving & loading\n",
    "import time  # for stopping runtimes\n",
    "import glob  # local file and directories listings \n",
    "import pandas as pd  # data mangling and transforming\n",
    "import numpy as np  # matrix manipulations\n",
    "from datetime import datetime  # for timestamps\n",
    "from read_pickle import read_pickle  # binary file reading\n",
    "from secret_sharing import decrypt  # import additive secret sharing decryption"
   ]
  },
  {
   "cell_type": "code",
   "execution_count": null,
   "metadata": {},
   "outputs": [],
   "source": [
    "# start timing\n",
    "start = time.time()"
   ]
  },
  {
   "cell_type": "code",
   "execution_count": null,
   "metadata": {},
   "outputs": [],
   "source": [
    "# large prime number (key, hardcoded for now)\n",
    "Q = 1006940912373947"
   ]
  },
  {
   "cell_type": "code",
   "execution_count": null,
   "metadata": {},
   "outputs": [],
   "source": [
    "# hostnames & ips\n",
    "file = open('data/hosts&ips.txt', 'r')\n",
    "hoips = eval(file.read())\n",
    "file.close()"
   ]
  },
  {
   "cell_type": "markdown",
   "metadata": {},
   "source": [
    "### data share which was held"
   ]
  },
  {
   "cell_type": "code",
   "execution_count": null,
   "metadata": {},
   "outputs": [],
   "source": [
    "# read local encrypted data\n",
    "file = open('data/encryptedData.pickle', 'rb')\n",
    "d = pickle.load(file)"
   ]
  },
  {
   "cell_type": "code",
   "execution_count": null,
   "metadata": {},
   "outputs": [],
   "source": [
    "# only keep last column\n",
    "share3 = d.C"
   ]
  },
  {
   "cell_type": "markdown",
   "metadata": {},
   "source": [
    "### data shares which were received from other parties"
   ]
  },
  {
   "cell_type": "code",
   "execution_count": null,
   "metadata": {},
   "outputs": [],
   "source": [
    "share1, share2 = glob.glob('data/[0-9]*-1.pickle')"
   ]
  },
  {
   "cell_type": "code",
   "execution_count": null,
   "metadata": {},
   "outputs": [],
   "source": [
    "share1 = read_pickle(share1)\n",
    "share2 = read_pickle(share2)"
   ]
  },
  {
   "cell_type": "markdown",
   "metadata": {},
   "source": [
    "### Combine the 3"
   ]
  },
  {
   "cell_type": "code",
   "execution_count": null,
   "metadata": {},
   "outputs": [],
   "source": [
    "shares = decrypt(*[share1,share2,share3], Q=Q)"
   ]
  },
  {
   "cell_type": "code",
   "execution_count": null,
   "metadata": {},
   "outputs": [],
   "source": [
    "# save as pickle\n",
    "with open('data/own_aggregated_share.pickle','wb') as f:\n",
    "    pickle.dump(shares, f)"
   ]
  },
  {
   "cell_type": "markdown",
   "metadata": {},
   "source": [
    "## Communication with other parties"
   ]
  },
  {
   "cell_type": "markdown",
   "metadata": {},
   "source": [
    "### Establish connection to other parties (servers)"
   ]
  },
  {
   "cell_type": "code",
   "execution_count": null,
   "metadata": {},
   "outputs": [],
   "source": [
    "# general options\n",
    "s0 = socket.socket()  # Create socket object 0\n",
    "s1 = socket.socket()  # Create socket object 1\n",
    "client = socket.gethostname()  # define current machine as client\n",
    "port = 60387  # Reserve a port for your service."
   ]
  },
  {
   "cell_type": "code",
   "execution_count": null,
   "metadata": {},
   "outputs": [],
   "source": [
    "# other parties as servers\n",
    "servers = [key for key, value in hoips['hosts'].items() if value not in client]\n",
    "server0 = hoips['hosts'][servers[0]]\n",
    "server1 = hoips['hosts'][servers[1]]"
   ]
  },
  {
   "cell_type": "code",
   "execution_count": null,
   "metadata": {},
   "outputs": [],
   "source": [
    "# double-check parties\n",
    "print('Server0 ('+servers[0]+'): '+server0)\n",
    "print('Server1 ('+servers[1]+'): '+server1)\n",
    "print('Client: '+client)"
   ]
  },
  {
   "cell_type": "code",
   "execution_count": null,
   "metadata": {},
   "outputs": [],
   "source": [
    "# connect\n",
    "s0.connect((server0, port))\n",
    "s1.connect((server1, port))"
   ]
  },
  {
   "cell_type": "markdown",
   "metadata": {},
   "source": [
    "### Send data"
   ]
  },
  {
   "cell_type": "code",
   "execution_count": null,
   "metadata": {},
   "outputs": [],
   "source": [
    "msg = pickle.dumps(shares)"
   ]
  },
  {
   "cell_type": "code",
   "execution_count": null,
   "metadata": {},
   "outputs": [],
   "source": [
    "# send it\n",
    "s0.send(msg)\n",
    "s1.send(msg)"
   ]
  },
  {
   "cell_type": "code",
   "execution_count": null,
   "metadata": {},
   "outputs": [],
   "source": [
    "# close sockets\n",
    "s0.close()\n",
    "s1.close()"
   ]
  },
  {
   "cell_type": "code",
   "execution_count": null,
   "metadata": {},
   "outputs": [],
   "source": [
    "# timer\n",
    "end = time.time()\n",
    "df_timer = pd.DataFrame(data={'phase': '2: Aggregated Value Broadcasting',\n",
    "                              'timestamp': str(datetime.utcnow()),\n",
    "                              'n_secrets': len(d),\n",
    "                              'seconds': [round(end-start,2)]})\n",
    "\n",
    "with open('data/timer.csv', 'a') as f:\n",
    "    df_timer.to_csv(f, header=False)"
   ]
  }
 ],
 "metadata": {
  "kernelspec": {
   "display_name": "Python 3",
   "language": "python",
   "name": "python3"
  },
  "language_info": {
   "codemirror_mode": {
    "name": "ipython",
    "version": 3
   },
   "file_extension": ".py",
   "mimetype": "text/x-python",
   "name": "python",
   "nbconvert_exporter": "python",
   "pygments_lexer": "ipython3",
   "version": "3.6.8"
  }
 },
 "nbformat": 4,
 "nbformat_minor": 2
}
