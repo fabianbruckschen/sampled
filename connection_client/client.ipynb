{
 "cells": [
  {
   "cell_type": "code",
   "execution_count": 4,
   "metadata": {},
   "outputs": [
    {
     "name": "stdout",
     "output_type": "stream",
     "text": [
      "Server: ip-172-31-46-89\n",
      "Client: ip-172-31-46-89\n"
     ]
    }
   ],
   "source": [
    "import socket  # Import socket module\n",
    "\n",
    "s = socket.socket()  # Create a socket object\n",
    "server = 'ip-172-31-46-89'  # define server machine name\n",
    "client1 = socket.gethostname()  # define current machine as client\n",
    "# client2 =  # define second machine\n",
    "port = 60387  # Reserve a port for your service.\n",
    "\n",
    "print('Server: '+server)\n",
    "print('Client: '+client1)\n",
    "\n",
    "# connect\n",
    "s.connect((server, port))"
   ]
  },
  {
   "cell_type": "code",
   "execution_count": 8,
   "metadata": {},
   "outputs": [
    {
     "data": {
      "text/plain": [
       "10"
      ]
     },
     "execution_count": 8,
     "metadata": {},
     "output_type": "execute_result"
    }
   ],
   "source": [
    "# send sth\n",
    "data = '[44,55,66]'\n",
    "s.sendto(data.encode('utf-8'), (socket.gethostbyname(server),port))"
   ]
  }
 ],
 "metadata": {
  "kernelspec": {
   "display_name": "Python 3",
   "language": "python",
   "name": "python3"
  },
  "language_info": {
   "codemirror_mode": {
    "name": "ipython",
    "version": 3
   },
   "file_extension": ".py",
   "mimetype": "text/x-python",
   "name": "python",
   "nbconvert_exporter": "python",
   "pygments_lexer": "ipython3",
   "version": "3.6.8"
  }
 },
 "nbformat": 4,
 "nbformat_minor": 2
}
