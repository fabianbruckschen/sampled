{
 "cells": [
  {
   "cell_type": "code",
   "execution_count": 1,
   "metadata": {},
   "outputs": [
    {
     "name": "stdout",
     "output_type": "stream",
     "text": [
      "Server: ip-172-31-38-9\n",
      "Client: ip-172-31-44-44\n"
     ]
    }
   ],
   "source": [
    "import socket  # Import socket module\n",
    "\n",
    "s = socket.socket()  # Create a socket object\n",
    "server = 'ip-172-31-38-9'  # define server machine name\n",
    "client1 = socket.gethostname()  # define current machine as client\n",
    "# client2 =  # define second machine\n",
    "port = 60387  # Reserve a port for your service.\n",
    "\n",
    "print('Server: '+server)\n",
    "print('Client: '+client1)"
   ]
  },
  {
   "cell_type": "code",
   "execution_count": 2,
   "metadata": {},
   "outputs": [],
   "source": [
    "# connect\n",
    "s.connect((server, port))"
   ]
  },
  {
   "cell_type": "code",
   "execution_count": 3,
   "metadata": {},
   "outputs": [
    {
     "data": {
      "text/plain": [
       "7"
      ]
     },
     "execution_count": 3,
     "metadata": {},
     "output_type": "execute_result"
    }
   ],
   "source": [
    "# send sth\n",
    "message='waddup?'\n",
    "s.sendto(message.encode('utf-8'), (socket.gethostbyname(server),port))"
   ]
  },
  {
   "cell_type": "code",
   "execution_count": null,
   "metadata": {},
   "outputs": [],
   "source": []
  }
 ],
 "metadata": {
  "kernelspec": {
   "display_name": "Python 3",
   "language": "python",
   "name": "python3"
  },
  "language_info": {
   "codemirror_mode": {
    "name": "ipython",
    "version": 3
   },
   "file_extension": ".py",
   "mimetype": "text/x-python",
   "name": "python",
   "nbconvert_exporter": "python",
   "pygments_lexer": "ipython3",
   "version": "3.6.8"
  }
 },
 "nbformat": 4,
 "nbformat_minor": 2
}
