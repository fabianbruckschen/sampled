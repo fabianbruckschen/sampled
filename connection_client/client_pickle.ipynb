{
 "cells": [
  {
   "cell_type": "markdown",
   "metadata": {},
   "source": [
    "# Client send via pickle"
   ]
  },
  {
   "cell_type": "markdown",
   "metadata": {},
   "source": [
    "## Preparations"
   ]
  },
  {
   "cell_type": "code",
   "execution_count": 1,
   "metadata": {},
   "outputs": [],
   "source": [
    "# modules\n",
    "import socket  # creating server client connections for efficient communication\n",
    "import pickle  # efficient file saving\n",
    "import numpy as np  # matrix manipulations"
   ]
  },
  {
   "cell_type": "code",
   "execution_count": 2,
   "metadata": {},
   "outputs": [],
   "source": [
    "# hostnames & ips\n",
    "file = open('../data/hosts&ips.txt', 'r')\n",
    "hoips = eval(file.read())\n",
    "file.close()"
   ]
  },
  {
   "cell_type": "code",
   "execution_count": 3,
   "metadata": {},
   "outputs": [],
   "source": [
    "# read local encrypted data\n",
    "file = open('../data/encryptedData.pickle', 'rb')\n",
    "d = pickle.load(file)"
   ]
  },
  {
   "cell_type": "code",
   "execution_count": 4,
   "metadata": {},
   "outputs": [
    {
     "data": {
      "text/html": [
       "<div>\n",
       "<style scoped>\n",
       "    .dataframe tbody tr th:only-of-type {\n",
       "        vertical-align: middle;\n",
       "    }\n",
       "\n",
       "    .dataframe tbody tr th {\n",
       "        vertical-align: top;\n",
       "    }\n",
       "\n",
       "    .dataframe thead th {\n",
       "        text-align: right;\n",
       "    }\n",
       "</style>\n",
       "<table border=\"1\" class=\"dataframe\">\n",
       "  <thead>\n",
       "    <tr style=\"text-align: right;\">\n",
       "      <th></th>\n",
       "      <th>A</th>\n",
       "      <th>B</th>\n",
       "      <th>C</th>\n",
       "    </tr>\n",
       "  </thead>\n",
       "  <tbody>\n",
       "    <tr>\n",
       "      <th>0</th>\n",
       "      <td>652785541339293</td>\n",
       "      <td>664216480691521</td>\n",
       "      <td>696879802721563</td>\n",
       "    </tr>\n",
       "    <tr>\n",
       "      <th>1</th>\n",
       "      <td>247859138410370</td>\n",
       "      <td>891129324909782</td>\n",
       "      <td>874893361429862</td>\n",
       "    </tr>\n",
       "    <tr>\n",
       "      <th>2</th>\n",
       "      <td>51053520443953</td>\n",
       "      <td>484962661525521</td>\n",
       "      <td>470924730411298</td>\n",
       "    </tr>\n",
       "    <tr>\n",
       "      <th>3</th>\n",
       "      <td>262370079745870</td>\n",
       "      <td>985526007409221</td>\n",
       "      <td>765985737598415</td>\n",
       "    </tr>\n",
       "    <tr>\n",
       "      <th>4</th>\n",
       "      <td>844204732288373</td>\n",
       "      <td>525462031525918</td>\n",
       "      <td>644215060935827</td>\n",
       "    </tr>\n",
       "  </tbody>\n",
       "</table>\n",
       "</div>"
      ],
      "text/plain": [
       "                 A                B                C\n",
       "0  652785541339293  664216480691521  696879802721563\n",
       "1  247859138410370  891129324909782  874893361429862\n",
       "2   51053520443953  484962661525521  470924730411298\n",
       "3  262370079745870  985526007409221  765985737598415\n",
       "4  844204732288373  525462031525918  644215060935827"
      ]
     },
     "execution_count": 4,
     "metadata": {},
     "output_type": "execute_result"
    }
   ],
   "source": [
    "d.head()"
   ]
  },
  {
   "cell_type": "markdown",
   "metadata": {},
   "source": [
    "## Communication with other parties"
   ]
  },
  {
   "cell_type": "markdown",
   "metadata": {},
   "source": [
    "### Establish connection to other parties (servers)"
   ]
  },
  {
   "cell_type": "code",
   "execution_count": 5,
   "metadata": {},
   "outputs": [],
   "source": [
    "# general options\n",
    "s0 = socket.socket()  # Create socket object 0\n",
    "s1 = socket.socket()  # Create socket object 1\n",
    "client = socket.gethostname()  # define current machine as client\n",
    "port = 60387  # Reserve a port for your service."
   ]
  },
  {
   "cell_type": "code",
   "execution_count": 6,
   "metadata": {},
   "outputs": [],
   "source": [
    "# other parties as servers\n",
    "servers = [key for key, value in hoips['hosts'].items() if value not in client]\n",
    "server0 = hoips['hosts'][servers[0]]\n",
    "server1 = hoips['hosts'][servers[1]]"
   ]
  },
  {
   "cell_type": "code",
   "execution_count": 7,
   "metadata": {},
   "outputs": [
    {
     "name": "stdout",
     "output_type": "stream",
     "text": [
      "Server0 (chris): ip-172-31-38-9\n",
      "Server1 (max): ip-172-31-44-44\n",
      "Client: ip-172-31-46-89\n"
     ]
    }
   ],
   "source": [
    "# double-check parties\n",
    "print('Server0 ('+servers[0]+'): '+server0)\n",
    "print('Server1 ('+servers[1]+'): '+server1)\n",
    "print('Client: '+client)"
   ]
  },
  {
   "cell_type": "code",
   "execution_count": 9,
   "metadata": {},
   "outputs": [],
   "source": [
    "# connect\n",
    "s0.connect((server0, port))\n",
    "s1.connect((server1, port))"
   ]
  },
  {
   "cell_type": "markdown",
   "metadata": {},
   "source": [
    "### Send data"
   ]
  },
  {
   "cell_type": "code",
   "execution_count": 10,
   "metadata": {},
   "outputs": [],
   "source": [
    "msg0 = pickle.dumps(d['A'])\n",
    "msg1 = pickle.dumps(d['B'])"
   ]
  },
  {
   "cell_type": "code",
   "execution_count": 11,
   "metadata": {},
   "outputs": [],
   "source": [
    "# # what are we doing here?\n",
    "# msg = bytes(f'{len(msg)}', \"utf-8\") + msg"
   ]
  },
  {
   "cell_type": "code",
   "execution_count": 12,
   "metadata": {},
   "outputs": [
    {
     "data": {
      "text/plain": [
       "1515"
      ]
     },
     "execution_count": 12,
     "metadata": {},
     "output_type": "execute_result"
    }
   ],
   "source": [
    "# send it\n",
    "s0.send(msg0)\n",
    "s1.send(msg1)"
   ]
  },
  {
   "cell_type": "code",
   "execution_count": 13,
   "metadata": {},
   "outputs": [],
   "source": [
    "# close socket\n",
    "# s.close()"
   ]
  }
 ],
 "metadata": {
  "kernelspec": {
   "display_name": "Python 3",
   "language": "python",
   "name": "python3"
  },
  "language_info": {
   "codemirror_mode": {
    "name": "ipython",
    "version": 3
   },
   "file_extension": ".py",
   "mimetype": "text/x-python",
   "name": "python",
   "nbconvert_exporter": "python",
   "pygments_lexer": "ipython3",
   "version": "3.6.8"
  }
 },
 "nbformat": 4,
 "nbformat_minor": 2
}
