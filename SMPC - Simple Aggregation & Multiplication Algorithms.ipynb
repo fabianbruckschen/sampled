{
 "cells": [
  {
   "cell_type": "markdown",
   "metadata": {},
   "source": [
    "# SMPC - Simple Aggregation & Multiplication Algorithms"
   ]
  },
  {
   "cell_type": "markdown",
   "metadata": {},
   "source": [
    "This notebook serves as the initial integration of simple aggregation & multiplication algorithms between 2+ parties without revealing their secret values using open source protocols. This is achieved by splitting each value into multiple shares, each of which operate like a private key.\n",
    "\n",
    "Important notes:\n",
    "* each secret is split into 3 shares as default\n",
    "* additive sharing, which needs all parties to participate, no drop outs (for such scenarios you need shamir's sharing)\n",
    "* honest-but-curious (or passive) security\n",
    "\n",
    "Implemented primitives:\n",
    "* addition\n",
    "* substraction\n",
    "* comparison\n",
    "* multiplication\n"
   ]
  },
  {
   "cell_type": "markdown",
   "metadata": {},
   "source": [
    "## Preparations"
   ]
  },
  {
   "cell_type": "code",
   "execution_count": 1,
   "metadata": {},
   "outputs": [],
   "source": [
    "# import modules\n",
    "import random as rd  # generating random numbers for distributions\n",
    "import numpy as np  # handling vectors and matrices\n",
    "from generate_prime import generate_prime_number  # code for generating large prime numbers quickly"
   ]
  },
  {
   "cell_type": "markdown",
   "metadata": {},
   "source": [
    "## Encryption"
   ]
  },
  {
   "cell_type": "markdown",
   "metadata": {},
   "source": [
    "> Encryption doesn't use floats or real numbers but happens in a mathematical space called [integer quotient ring](http://mathworld.wolfram.com/QuotientRing.html) which is basically the integers between `0` and `Q-1`, where `Q` is prime and \\\"big enough\\\" so that the space can contain all the numbers that we use in our algorithms. In practice, given a value `x` integer, we do `x % Q` to fit in the ring. (That's why we avoid using number `x' > Q`)."
   ]
  },
  {
   "cell_type": "code",
   "execution_count": 2,
   "metadata": {},
   "outputs": [
    {
     "data": {
      "text/plain": [
       "878453306505433"
      ]
     },
     "execution_count": 2,
     "metadata": {},
     "output_type": "execute_result"
    }
   ],
   "source": [
    "Q = generate_prime_number(50)\n",
    "Q"
   ]
  },
  {
   "cell_type": "code",
   "execution_count": 3,
   "metadata": {},
   "outputs": [],
   "source": [
    "# enryption function (additive sharing)\n",
    "def encrypt(x, n_shares=3):\n",
    "    shares = tuple(rd.randrange(0,Q) for _ in range(n_shares-1))\n",
    "    return (*shares, ((x - sum(shares)) % Q))"
   ]
  },
  {
   "cell_type": "markdown",
   "metadata": {},
   "source": [
    "## Decryption"
   ]
  },
  {
   "cell_type": "code",
   "execution_count": 4,
   "metadata": {},
   "outputs": [],
   "source": [
    "# decryption function\n",
    "def decrypt(*shares):\n",
    "    return sum(shares) % Q"
   ]
  },
  {
   "cell_type": "code",
   "execution_count": 5,
   "metadata": {},
   "outputs": [
    {
     "data": {
      "text/plain": [
       "(166161326824824, 134444947934158, 577847031752492)"
      ]
     },
     "execution_count": 5,
     "metadata": {},
     "output_type": "execute_result"
    }
   ],
   "source": [
    "# example encryption\n",
    "ex_shares = encrypt(6041)\n",
    "ex_shares"
   ]
  },
  {
   "cell_type": "code",
   "execution_count": 6,
   "metadata": {},
   "outputs": [
    {
     "data": {
      "text/plain": [
       "6041"
      ]
     },
     "execution_count": 6,
     "metadata": {},
     "output_type": "execute_result"
    }
   ],
   "source": [
    "decrypt(*ex_shares)"
   ]
  },
  {
   "cell_type": "markdown",
   "metadata": {},
   "source": [
    "## Aggregation Functions (`+` and `-`)"
   ]
  },
  {
   "cell_type": "markdown",
   "metadata": {},
   "source": [
    "`x + y = (x0 + x1 + x2) + (y0 + y1 + y2)`\n",
    "\n",
    "`x + y = (x0 + y0) + (x1 + y1) + (x2 + y2)`"
   ]
  },
  {
   "cell_type": "code",
   "execution_count": 7,
   "metadata": {},
   "outputs": [],
   "source": [
    "# addition algorithm\n",
    "def add(x, y):\n",
    "    # x & y have to have the same number of shares (= length)\n",
    "    return [(xi + yi) % Q for xi, yi in zip(x,y)]"
   ]
  },
  {
   "cell_type": "code",
   "execution_count": 8,
   "metadata": {},
   "outputs": [],
   "source": [
    "# substraction algorithm\n",
    "def sub(x, y):\n",
    "    # x & y have to have the same number of shares (= length)\n",
    "    return [(xi - yi) % Q for xi, yi in zip(x,y)]"
   ]
  },
  {
   "cell_type": "markdown",
   "metadata": {},
   "source": [
    "### Example for adding 3 secrets"
   ]
  },
  {
   "cell_type": "code",
   "execution_count": 9,
   "metadata": {},
   "outputs": [
    {
     "data": {
      "text/plain": [
       "[(240878361736014, 727039454958165, 788988796322728),\n",
       " (552308905462025, 285508428374134, 40635972669333),\n",
       " (255390414474448, 765759442661277, 735756755876041)]"
      ]
     },
     "execution_count": 9,
     "metadata": {},
     "output_type": "execute_result"
    }
   ],
   "source": [
    "# example\n",
    "# set 3 secret values and encrypt each into 3 (default) shares\n",
    "x = encrypt(6041)\n",
    "y = encrypt(59)\n",
    "z = encrypt(900)\n",
    "# what do the shares look like\n",
    "[x, y, z]"
   ]
  },
  {
   "cell_type": "code",
   "execution_count": 10,
   "metadata": {},
   "outputs": [
    {
     "data": {
      "text/plain": [
       "[170124375167054, 21400712982710, 686928218362669]"
      ]
     },
     "execution_count": 10,
     "metadata": {},
     "output_type": "execute_result"
    }
   ],
   "source": [
    "# add the encrypted values\n",
    "agg = add(add(x,y),z)\n",
    "agg"
   ]
  },
  {
   "cell_type": "code",
   "execution_count": 11,
   "metadata": {},
   "outputs": [
    {
     "data": {
      "text/plain": [
       "7000"
      ]
     },
     "execution_count": 11,
     "metadata": {},
     "output_type": "execute_result"
    }
   ],
   "source": [
    "# and decrypt the aggregated shares\n",
    "decrypt(*agg)"
   ]
  },
  {
   "cell_type": "markdown",
   "metadata": {},
   "source": [
    "### Now substracting x and z"
   ]
  },
  {
   "cell_type": "code",
   "execution_count": 12,
   "metadata": {},
   "outputs": [
    {
     "data": {
      "text/plain": [
       "5141"
      ]
     },
     "execution_count": 12,
     "metadata": {},
     "output_type": "execute_result"
    }
   ],
   "source": [
    "decrypt(*sub(x,z))"
   ]
  },
  {
   "cell_type": "markdown",
   "metadata": {},
   "source": [
    "## Now checking for equality"
   ]
  },
  {
   "cell_type": "code",
   "execution_count": 13,
   "metadata": {},
   "outputs": [],
   "source": [
    "x2 = encrypt(6041)"
   ]
  },
  {
   "cell_type": "code",
   "execution_count": 14,
   "metadata": {},
   "outputs": [
    {
     "data": {
      "text/plain": [
       "False"
      ]
     },
     "execution_count": 14,
     "metadata": {},
     "output_type": "execute_result"
    }
   ],
   "source": [
    "x==x2"
   ]
  },
  {
   "cell_type": "code",
   "execution_count": 15,
   "metadata": {},
   "outputs": [
    {
     "data": {
      "text/plain": [
       "0"
      ]
     },
     "execution_count": 15,
     "metadata": {},
     "output_type": "execute_result"
    }
   ],
   "source": [
    "decrypt(*sub(x,x2))"
   ]
  },
  {
   "cell_type": "markdown",
   "metadata": {},
   "source": [
    "## Multiplication Function"
   ]
  },
  {
   "cell_type": "markdown",
   "metadata": {},
   "source": [
    "General:\n",
    "\n",
    "* Using Beaver's precomputed multiplication triples\n",
    "\n",
    "---\n",
    "\n",
    "`x * y = (x0 + x1) * (y0 + y1)`\n",
    "\n",
    "`x * y = (x0 * y0) + (x1 * y1) + (x0 * y1) + (x1 * y0)`\n",
    "\n",
    "---\n",
    "\n",
    "Masking (Beaver's triple, can only be used for one calculation):\n",
    "* masks: s, t\n",
    "* masked values: alpha, beta\n",
    "* Generated by third party during offline phase, because masks are independent of private values\n",
    "\n",
    "---\n",
    "\n",
    "Public Masked Values:\n",
    "\n",
    "`alpha = (x0 - s0) + (x1 - s1)`\n",
    "\n",
    "`beta = (y0 - t0) + (y1 - t1)`\n",
    "\n",
    "---\n",
    "\n",
    "`z0 = st0 + (s0 * beta) + (alpha * t0) + (alpha * beta)`\n",
    "\n",
    "`z1 = st1 + (s1 * beta) + (alpha * t1)`\n",
    "\n",
    "---\n",
    "\n",
    "Equivalency:\n",
    "`z0 + z1 = x * y` (while x and y where perfectly hidden during the calculation)"
   ]
  },
  {
   "cell_type": "code",
   "execution_count": 16,
   "metadata": {},
   "outputs": [],
   "source": [
    "# generate additional independent masks which have a multiplicative relationship\n",
    "def generate_mul_triple(n_shares=3):\n",
    "    # create triple\n",
    "    s = rd.randrange(0,Q)\n",
    "    t = rd.randrange(0,Q)\n",
    "    st = (s*t)%Q\n",
    "    \n",
    "    # create shares\n",
    "    s = encrypt(s, n_shares=n_shares)\n",
    "    t = encrypt(t, n_shares=n_shares)\n",
    "    st = encrypt(st, n_shares=n_shares)\n",
    "    \n",
    "    return s,t,st\n",
    "\n",
    "# multiplication algorithm\n",
    "def mul(x,y):\n",
    "    # get number of shares\n",
    "    n_shares = len(x)\n",
    "    # create triple from trusted party\n",
    "    s,t,st = generate_mul_triple(n_shares=n_shares)\n",
    "    \n",
    "    # create one-time-pad encryptions (each party has a share of each)\n",
    "    alpha = sum(sub(x,s))\n",
    "    beta = sum(sub(y,t))\n",
    "    \n",
    "    # create z with additive relationship (using indicator function to only add alpha*beta once)\n",
    "    z = [(st[i] + (alpha * t[i]) + (beta * s[i]) + int(i==0)*(alpha*beta)) % Q for i in range(n_shares)]\n",
    "    \n",
    "    return z"
   ]
  },
  {
   "cell_type": "markdown",
   "metadata": {},
   "source": [
    "### Example for multiplying 2 secrets"
   ]
  },
  {
   "cell_type": "code",
   "execution_count": 17,
   "metadata": {},
   "outputs": [],
   "source": [
    "x = encrypt(50, n_shares=5)\n",
    "y = encrypt(12, n_shares=5)"
   ]
  },
  {
   "cell_type": "code",
   "execution_count": 18,
   "metadata": {},
   "outputs": [],
   "source": [
    "z = mul(x,y)"
   ]
  },
  {
   "cell_type": "code",
   "execution_count": 19,
   "metadata": {},
   "outputs": [
    {
     "data": {
      "text/plain": [
       "[245154185535248,\n",
       " 288884198386305,\n",
       " 538147406504582,\n",
       " 110792568711,\n",
       " 684610030016620]"
      ]
     },
     "execution_count": 19,
     "metadata": {},
     "output_type": "execute_result"
    }
   ],
   "source": [
    "z"
   ]
  },
  {
   "cell_type": "code",
   "execution_count": 20,
   "metadata": {},
   "outputs": [
    {
     "data": {
      "text/plain": [
       "600"
      ]
     },
     "execution_count": 20,
     "metadata": {},
     "output_type": "execute_result"
    }
   ],
   "source": [
    "decrypt(*z)"
   ]
  },
  {
   "cell_type": "markdown",
   "metadata": {},
   "source": [
    "## Creating Classes of Private and Public Values - WIP"
   ]
  },
  {
   "cell_type": "code",
   "execution_count": 21,
   "metadata": {},
   "outputs": [],
   "source": [
    "class PublicValue:\n",
    "    \n",
    "    def __init__(self, value):\n",
    "        self.value = value"
   ]
  },
  {
   "cell_type": "code",
   "execution_count": 22,
   "metadata": {},
   "outputs": [],
   "source": [
    "class PrivateValue:\n",
    "\n",
    "    def __init__(self, value, share0=None, share1=None, share2=None):\n",
    "        if not value is None:\n",
    "            share0, share1, share2 = encrypt(value)\n",
    "        self.share0 = share0\n",
    "        self.share1 = share1\n",
    "        self.share2 = share2\n",
    "\n",
    "    def decrypt(self):\n",
    "        return PublicValue(decrypt(self.share0, self.share1, self.share2))\n",
    "    \n",
    "    def add(x, y):\n",
    "        if type(y) is int: y = PublicValue(y)\n",
    "        if type(y) is PublicValue:\n",
    "            share0 = (x.share0 + y.element) % Q\n",
    "            share1 =  x.share1\n",
    "            share2 =  x.share2\n",
    "            return PrivateValue(None, share0, share1, share2)\n",
    "        if type(y) is PrivateValue:\n",
    "            share0 = (x.share0 + y.share0) % Q\n",
    "            share1 = (x.share1 + y.share1) % Q\n",
    "            share2 = (x.share2 + y.share2) % Q\n",
    "            return PrivateValue(None, share0, share1, share2)"
   ]
  },
  {
   "cell_type": "code",
   "execution_count": 23,
   "metadata": {},
   "outputs": [],
   "source": [
    "x = PrivateValue(5)\n",
    "y = PrivateValue(12)"
   ]
  },
  {
   "cell_type": "code",
   "execution_count": 24,
   "metadata": {},
   "outputs": [],
   "source": [
    "z = x.add(y=y)"
   ]
  },
  {
   "cell_type": "code",
   "execution_count": 25,
   "metadata": {},
   "outputs": [
    {
     "data": {
      "text/plain": [
       "17"
      ]
     },
     "execution_count": 25,
     "metadata": {},
     "output_type": "execute_result"
    }
   ],
   "source": [
    "decrypt(z.share0, z.share1, z.share2)"
   ]
  }
 ],
 "metadata": {
  "kernelspec": {
   "display_name": "Python 3",
   "language": "python",
   "name": "python3"
  },
  "language_info": {
   "codemirror_mode": {
    "name": "ipython",
    "version": 3
   },
   "file_extension": ".py",
   "mimetype": "text/x-python",
   "name": "python",
   "nbconvert_exporter": "python",
   "pygments_lexer": "ipython3",
   "version": "3.6.5"
  }
 },
 "nbformat": 4,
 "nbformat_minor": 2
}
